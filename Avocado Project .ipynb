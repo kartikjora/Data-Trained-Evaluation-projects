{
 "cells": [
  {
   "cell_type": "markdown",
   "metadata": {},
   "source": [
    "# Data Description"
   ]
  },
  {
   "cell_type": "markdown",
   "metadata": {},
   "source": [
    "The task is to train a model that can consider the data provided and predict the Average Price of Avocados. The dataset consists of 16469 rows and 14 columns.\n",
    "\n",
    "Some relevant columns in the dataset are:\n",
    "\n",
    "Date - The date of the observation\n",
    "\n",
    "AveragePrice - the average price of a single avocado\n",
    "\n",
    "type - conventional or organic\n",
    "\n",
    "year - the year\n",
    "\n",
    "Region - the city or region of the observation\n",
    "\n",
    "Total Volume - Total number of avocados sold\n",
    "\n",
    "4046 - Total number of avocados with PLU 4046 sold\n",
    "\n",
    "4225 - Total number of avocados with PLU 4225 sold\n",
    "\n",
    "4770 - Total number of avocados with PLU 4770 sold\n"
   ]
  },
  {
   "cell_type": "markdown",
   "metadata": {},
   "source": [
    "# Importing Dataset"
   ]
  },
  {
   "cell_type": "code",
   "execution_count": 1,
   "metadata": {},
   "outputs": [],
   "source": [
    "#Importing Libraries\n",
    "import pandas as pd\n",
    "import numpy as np"
   ]
  },
  {
   "cell_type": "code",
   "execution_count": 2,
   "metadata": {},
   "outputs": [
    {
     "data": {
      "text/html": [
       "<div>\n",
       "<style scoped>\n",
       "    .dataframe tbody tr th:only-of-type {\n",
       "        vertical-align: middle;\n",
       "    }\n",
       "\n",
       "    .dataframe tbody tr th {\n",
       "        vertical-align: top;\n",
       "    }\n",
       "\n",
       "    .dataframe thead th {\n",
       "        text-align: right;\n",
       "    }\n",
       "</style>\n",
       "<table border=\"1\" class=\"dataframe\">\n",
       "  <thead>\n",
       "    <tr style=\"text-align: right;\">\n",
       "      <th></th>\n",
       "      <th>Unnamed: 0</th>\n",
       "      <th>Date</th>\n",
       "      <th>AveragePrice</th>\n",
       "      <th>Total Volume</th>\n",
       "      <th>4046</th>\n",
       "      <th>4225</th>\n",
       "      <th>4770</th>\n",
       "      <th>Total Bags</th>\n",
       "      <th>Small Bags</th>\n",
       "      <th>Large Bags</th>\n",
       "      <th>XLarge Bags</th>\n",
       "      <th>type</th>\n",
       "      <th>year</th>\n",
       "      <th>region</th>\n",
       "    </tr>\n",
       "  </thead>\n",
       "  <tbody>\n",
       "    <tr>\n",
       "      <th>0</th>\n",
       "      <td>0</td>\n",
       "      <td>2015-12-27</td>\n",
       "      <td>1.33</td>\n",
       "      <td>64236.62</td>\n",
       "      <td>1036.74</td>\n",
       "      <td>54454.85</td>\n",
       "      <td>48.16</td>\n",
       "      <td>8696.87</td>\n",
       "      <td>8603.62</td>\n",
       "      <td>93.25</td>\n",
       "      <td>0.0</td>\n",
       "      <td>conventional</td>\n",
       "      <td>2015</td>\n",
       "      <td>Albany</td>\n",
       "    </tr>\n",
       "    <tr>\n",
       "      <th>1</th>\n",
       "      <td>1</td>\n",
       "      <td>2015-12-20</td>\n",
       "      <td>1.35</td>\n",
       "      <td>54876.98</td>\n",
       "      <td>674.28</td>\n",
       "      <td>44638.81</td>\n",
       "      <td>58.33</td>\n",
       "      <td>9505.56</td>\n",
       "      <td>9408.07</td>\n",
       "      <td>97.49</td>\n",
       "      <td>0.0</td>\n",
       "      <td>conventional</td>\n",
       "      <td>2015</td>\n",
       "      <td>Albany</td>\n",
       "    </tr>\n",
       "    <tr>\n",
       "      <th>2</th>\n",
       "      <td>2</td>\n",
       "      <td>2015-12-13</td>\n",
       "      <td>0.93</td>\n",
       "      <td>118220.22</td>\n",
       "      <td>794.70</td>\n",
       "      <td>109149.67</td>\n",
       "      <td>130.50</td>\n",
       "      <td>8145.35</td>\n",
       "      <td>8042.21</td>\n",
       "      <td>103.14</td>\n",
       "      <td>0.0</td>\n",
       "      <td>conventional</td>\n",
       "      <td>2015</td>\n",
       "      <td>Albany</td>\n",
       "    </tr>\n",
       "    <tr>\n",
       "      <th>3</th>\n",
       "      <td>3</td>\n",
       "      <td>2015-12-06</td>\n",
       "      <td>1.08</td>\n",
       "      <td>78992.15</td>\n",
       "      <td>1132.00</td>\n",
       "      <td>71976.41</td>\n",
       "      <td>72.58</td>\n",
       "      <td>5811.16</td>\n",
       "      <td>5677.40</td>\n",
       "      <td>133.76</td>\n",
       "      <td>0.0</td>\n",
       "      <td>conventional</td>\n",
       "      <td>2015</td>\n",
       "      <td>Albany</td>\n",
       "    </tr>\n",
       "    <tr>\n",
       "      <th>4</th>\n",
       "      <td>4</td>\n",
       "      <td>2015-11-29</td>\n",
       "      <td>1.28</td>\n",
       "      <td>51039.60</td>\n",
       "      <td>941.48</td>\n",
       "      <td>43838.39</td>\n",
       "      <td>75.78</td>\n",
       "      <td>6183.95</td>\n",
       "      <td>5986.26</td>\n",
       "      <td>197.69</td>\n",
       "      <td>0.0</td>\n",
       "      <td>conventional</td>\n",
       "      <td>2015</td>\n",
       "      <td>Albany</td>\n",
       "    </tr>\n",
       "  </tbody>\n",
       "</table>\n",
       "</div>"
      ],
      "text/plain": [
       "   Unnamed: 0        Date  AveragePrice  Total Volume     4046       4225  \\\n",
       "0           0  2015-12-27          1.33      64236.62  1036.74   54454.85   \n",
       "1           1  2015-12-20          1.35      54876.98   674.28   44638.81   \n",
       "2           2  2015-12-13          0.93     118220.22   794.70  109149.67   \n",
       "3           3  2015-12-06          1.08      78992.15  1132.00   71976.41   \n",
       "4           4  2015-11-29          1.28      51039.60   941.48   43838.39   \n",
       "\n",
       "     4770  Total Bags  Small Bags  Large Bags  XLarge Bags          type  \\\n",
       "0   48.16     8696.87     8603.62       93.25          0.0  conventional   \n",
       "1   58.33     9505.56     9408.07       97.49          0.0  conventional   \n",
       "2  130.50     8145.35     8042.21      103.14          0.0  conventional   \n",
       "3   72.58     5811.16     5677.40      133.76          0.0  conventional   \n",
       "4   75.78     6183.95     5986.26      197.69          0.0  conventional   \n",
       "\n",
       "   year  region  \n",
       "0  2015  Albany  \n",
       "1  2015  Albany  \n",
       "2  2015  Albany  \n",
       "3  2015  Albany  \n",
       "4  2015  Albany  "
      ]
     },
     "execution_count": 2,
     "metadata": {},
     "output_type": "execute_result"
    }
   ],
   "source": [
    "# Importing Dataset\n",
    "df=pd.read_csv('avocado.csv')\n",
    "#Visualizing first 5 rows of dataset\n",
    "df.head()"
   ]
  },
  {
   "cell_type": "markdown",
   "metadata": {},
   "source": [
    "In the above Dataframe, we can see there are 13 input columns and an output column AveragePrice."
   ]
  },
  {
   "cell_type": "markdown",
   "metadata": {},
   "source": [
    "# Checking Null Values \n"
   ]
  },
  {
   "cell_type": "code",
   "execution_count": 3,
   "metadata": {},
   "outputs": [
    {
     "data": {
      "text/plain": [
       "Unnamed: 0      0\n",
       "Date            0\n",
       "AveragePrice    0\n",
       "Total Volume    0\n",
       "4046            0\n",
       "4225            0\n",
       "4770            0\n",
       "Total Bags      0\n",
       "Small Bags      0\n",
       "Large Bags      0\n",
       "XLarge Bags     0\n",
       "type            0\n",
       "year            0\n",
       "region          0\n",
       "dtype: int64"
      ]
     },
     "execution_count": 3,
     "metadata": {},
     "output_type": "execute_result"
    }
   ],
   "source": [
    "#Checking Null values\n",
    "df.isnull().sum()"
   ]
  },
  {
   "cell_type": "markdown",
   "metadata": {},
   "source": [
    "There are 14951 null values in all the columns i.e. 14951 rows are empty. Let us drop the empty rows."
   ]
  },
  {
   "cell_type": "code",
   "execution_count": 4,
   "metadata": {},
   "outputs": [],
   "source": [
    "#dropping all empty rows\n",
    "df.dropna(axis=0,inplace=True)"
   ]
  },
  {
   "cell_type": "code",
   "execution_count": 5,
   "metadata": {},
   "outputs": [
    {
     "data": {
      "text/plain": [
       "Index(['Unnamed: 0', 'Date', 'AveragePrice', 'Total Volume', '4046', '4225',\n",
       "       '4770', 'Total Bags', 'Small Bags', 'Large Bags', 'XLarge Bags', 'type',\n",
       "       'year', 'region'],\n",
       "      dtype='object')"
      ]
     },
     "execution_count": 5,
     "metadata": {},
     "output_type": "execute_result"
    }
   ],
   "source": [
    "#checking different columns\n",
    "df.columns"
   ]
  },
  {
   "cell_type": "code",
   "execution_count": 6,
   "metadata": {},
   "outputs": [
    {
     "data": {
      "text/plain": [
       "Unnamed: 0        int64\n",
       "Date             object\n",
       "AveragePrice    float64\n",
       "Total Volume    float64\n",
       "4046            float64\n",
       "4225            float64\n",
       "4770            float64\n",
       "Total Bags      float64\n",
       "Small Bags      float64\n",
       "Large Bags      float64\n",
       "XLarge Bags     float64\n",
       "type             object\n",
       "year              int64\n",
       "region           object\n",
       "dtype: object"
      ]
     },
     "execution_count": 6,
     "metadata": {},
     "output_type": "execute_result"
    }
   ],
   "source": [
    "#Checking data-type of each column\n",
    "df.dtypes"
   ]
  },
  {
   "cell_type": "markdown",
   "metadata": {},
   "source": [
    "All columns are in float data-type except date, type and region. Date, type and region are of string data-type. "
   ]
  },
  {
   "cell_type": "code",
   "execution_count": 7,
   "metadata": {},
   "outputs": [
    {
     "data": {
      "text/plain": [
       "Unnamed: 0      0\n",
       "Date            0\n",
       "AveragePrice    0\n",
       "Total Volume    0\n",
       "4046            0\n",
       "4225            0\n",
       "4770            0\n",
       "Total Bags      0\n",
       "Small Bags      0\n",
       "Large Bags      0\n",
       "XLarge Bags     0\n",
       "type            0\n",
       "year            0\n",
       "region          0\n",
       "dtype: int64"
      ]
     },
     "execution_count": 7,
     "metadata": {},
     "output_type": "execute_result"
    }
   ],
   "source": [
    "#Checking Null values again\n",
    "df.isnull().sum()"
   ]
  },
  {
   "cell_type": "code",
   "execution_count": 8,
   "metadata": {},
   "outputs": [
    {
     "data": {
      "text/plain": [
       "<AxesSubplot:>"
      ]
     },
     "execution_count": 8,
     "metadata": {},
     "output_type": "execute_result"
    },
    {
     "data": {
      "image/png": "[encoded data removed]",
      "text/plain": [
       "<Figure size 432x288 with 2 Axes>"
      ]
     },
     "metadata": {
      "needs_background": "light"
     },
     "output_type": "display_data"
    }
   ],
   "source": [
    "#Visualizing null values through heatmap\n",
    "import seaborn as sns\n",
    "sns.heatmap(df.isnull())"
   ]
  },
  {
   "cell_type": "markdown",
   "metadata": {},
   "source": [
    "As we can see there are no Null values present in our dataset. We can proceed forward towards Visualization."
   ]
  },
  {
   "cell_type": "markdown",
   "metadata": {},
   "source": [
    "# Making DataFrame for the Nominal Data"
   ]
  },
  {
   "cell_type": "code",
   "execution_count": 9,
   "metadata": {},
   "outputs": [],
   "source": [
    "#Copying our nominal data into a new variable\n",
    "df_nominal=df[['type','year','region']].copy()"
   ]
  },
  {
   "cell_type": "code",
   "execution_count": 10,
   "metadata": {},
   "outputs": [
    {
     "data": {
      "text/plain": [
       "Index(['type', 'year', 'region'], dtype='object')"
      ]
     },
     "execution_count": 10,
     "metadata": {},
     "output_type": "execute_result"
    }
   ],
   "source": [
    "#Checking columns of our new nominal dataframe\n",
    "df_nominal.columns"
   ]
  },
  {
   "cell_type": "markdown",
   "metadata": {},
   "source": [
    "# Visualization of Nominal Data"
   ]
  },
  {
   "cell_type": "markdown",
   "metadata": {},
   "source": [
    "For the nominal categorical data we will use countplot as it will give frequency of the columns."
   ]
  },
  {
   "cell_type": "code",
   "execution_count": 11,
   "metadata": {},
   "outputs": [],
   "source": [
    "#Importing libraries required for visualization\n",
    "import matplotlib.pyplot as plt\n",
    "import seaborn as sns"
   ]
  },
  {
   "cell_type": "code",
   "execution_count": 12,
   "metadata": {},
   "outputs": [
    {
     "name": "stdout",
     "output_type": "stream",
     "text": [
      "conventional    9126\n",
      "organic         9123\n",
      "Name: type, dtype: int64\n"
     ]
    },
    {
     "data": {
      "image/png": "[encoded data removed]",
      "text/plain": [
       "<Figure size 432x288 with 1 Axes>"
      ]
     },
     "metadata": {
      "needs_background": "light"
     },
     "output_type": "display_data"
    }
   ],
   "source": [
    "#Using countplot for nominal data\n",
    "ab=sns.countplot(x='type', data=df_nominal)\n",
    "print(df_nominal['type'].value_counts())"
   ]
  },
  {
   "cell_type": "code",
   "execution_count": 13,
   "metadata": {},
   "outputs": [
    {
     "data": {
      "text/plain": [
       "array(['conventional', 'organic'], dtype=object)"
      ]
     },
     "execution_count": 13,
     "metadata": {},
     "output_type": "execute_result"
    }
   ],
   "source": [
    "#Checking uniqueness of \"type\" column\n",
    "df.type.unique()"
   ]
  },
  {
   "cell_type": "markdown",
   "metadata": {},
   "source": [
    "We can see that the whole dataset contains the \"Conventional\" type of data. Hence, it doesn't create any impact on our dataset, so we drop the column."
   ]
  },
  {
   "cell_type": "code",
   "execution_count": 14,
   "metadata": {},
   "outputs": [],
   "source": [
    "df.drop('type',axis=1,inplace=True)"
   ]
  },
  {
   "cell_type": "code",
   "execution_count": 15,
   "metadata": {},
   "outputs": [
    {
     "data": {
      "text/html": [
       "<div>\n",
       "<style scoped>\n",
       "    .dataframe tbody tr th:only-of-type {\n",
       "        vertical-align: middle;\n",
       "    }\n",
       "\n",
       "    .dataframe tbody tr th {\n",
       "        vertical-align: top;\n",
       "    }\n",
       "\n",
       "    .dataframe thead th {\n",
       "        text-align: right;\n",
       "    }\n",
       "</style>\n",
       "<table border=\"1\" class=\"dataframe\">\n",
       "  <thead>\n",
       "    <tr style=\"text-align: right;\">\n",
       "      <th></th>\n",
       "      <th>Unnamed: 0</th>\n",
       "      <th>Date</th>\n",
       "      <th>AveragePrice</th>\n",
       "      <th>Total Volume</th>\n",
       "      <th>4046</th>\n",
       "      <th>4225</th>\n",
       "      <th>4770</th>\n",
       "      <th>Total Bags</th>\n",
       "      <th>Small Bags</th>\n",
       "      <th>Large Bags</th>\n",
       "      <th>XLarge Bags</th>\n",
       "      <th>year</th>\n",
       "      <th>region</th>\n",
       "    </tr>\n",
       "  </thead>\n",
       "  <tbody>\n",
       "    <tr>\n",
       "      <th>0</th>\n",
       "      <td>0</td>\n",
       "      <td>2015-12-27</td>\n",
       "      <td>1.33</td>\n",
       "      <td>64236.62</td>\n",
       "      <td>1036.74</td>\n",
       "      <td>54454.85</td>\n",
       "      <td>48.16</td>\n",
       "      <td>8696.87</td>\n",
       "      <td>8603.62</td>\n",
       "      <td>93.25</td>\n",
       "      <td>0.0</td>\n",
       "      <td>2015</td>\n",
       "      <td>Albany</td>\n",
       "    </tr>\n",
       "    <tr>\n",
       "      <th>1</th>\n",
       "      <td>1</td>\n",
       "      <td>2015-12-20</td>\n",
       "      <td>1.35</td>\n",
       "      <td>54876.98</td>\n",
       "      <td>674.28</td>\n",
       "      <td>44638.81</td>\n",
       "      <td>58.33</td>\n",
       "      <td>9505.56</td>\n",
       "      <td>9408.07</td>\n",
       "      <td>97.49</td>\n",
       "      <td>0.0</td>\n",
       "      <td>2015</td>\n",
       "      <td>Albany</td>\n",
       "    </tr>\n",
       "    <tr>\n",
       "      <th>2</th>\n",
       "      <td>2</td>\n",
       "      <td>2015-12-13</td>\n",
       "      <td>0.93</td>\n",
       "      <td>118220.22</td>\n",
       "      <td>794.70</td>\n",
       "      <td>109149.67</td>\n",
       "      <td>130.50</td>\n",
       "      <td>8145.35</td>\n",
       "      <td>8042.21</td>\n",
       "      <td>103.14</td>\n",
       "      <td>0.0</td>\n",
       "      <td>2015</td>\n",
       "      <td>Albany</td>\n",
       "    </tr>\n",
       "    <tr>\n",
       "      <th>3</th>\n",
       "      <td>3</td>\n",
       "      <td>2015-12-06</td>\n",
       "      <td>1.08</td>\n",
       "      <td>78992.15</td>\n",
       "      <td>1132.00</td>\n",
       "      <td>71976.41</td>\n",
       "      <td>72.58</td>\n",
       "      <td>5811.16</td>\n",
       "      <td>5677.40</td>\n",
       "      <td>133.76</td>\n",
       "      <td>0.0</td>\n",
       "      <td>2015</td>\n",
       "      <td>Albany</td>\n",
       "    </tr>\n",
       "    <tr>\n",
       "      <th>4</th>\n",
       "      <td>4</td>\n",
       "      <td>2015-11-29</td>\n",
       "      <td>1.28</td>\n",
       "      <td>51039.60</td>\n",
       "      <td>941.48</td>\n",
       "      <td>43838.39</td>\n",
       "      <td>75.78</td>\n",
       "      <td>6183.95</td>\n",
       "      <td>5986.26</td>\n",
       "      <td>197.69</td>\n",
       "      <td>0.0</td>\n",
       "      <td>2015</td>\n",
       "      <td>Albany</td>\n",
       "    </tr>\n",
       "  </tbody>\n",
       "</table>\n",
       "</div>"
      ],
      "text/plain": [
       "   Unnamed: 0        Date  AveragePrice  Total Volume     4046       4225  \\\n",
       "0           0  2015-12-27          1.33      64236.62  1036.74   54454.85   \n",
       "1           1  2015-12-20          1.35      54876.98   674.28   44638.81   \n",
       "2           2  2015-12-13          0.93     118220.22   794.70  109149.67   \n",
       "3           3  2015-12-06          1.08      78992.15  1132.00   71976.41   \n",
       "4           4  2015-11-29          1.28      51039.60   941.48   43838.39   \n",
       "\n",
       "     4770  Total Bags  Small Bags  Large Bags  XLarge Bags  year  region  \n",
       "0   48.16     8696.87     8603.62       93.25          0.0  2015  Albany  \n",
       "1   58.33     9505.56     9408.07       97.49          0.0  2015  Albany  \n",
       "2  130.50     8145.35     8042.21      103.14          0.0  2015  Albany  \n",
       "3   72.58     5811.16     5677.40      133.76          0.0  2015  Albany  \n",
       "4   75.78     6183.95     5986.26      197.69          0.0  2015  Albany  "
      ]
     },
     "execution_count": 15,
     "metadata": {},
     "output_type": "execute_result"
    }
   ],
   "source": [
    "#Checking the dropped column\n",
    "df.head()"
   ]
  },
  {
   "cell_type": "markdown",
   "metadata": {},
   "source": [
    "Since we have dropped the \"type\" column, we move forward with our visualizations."
   ]
  },
  {
   "cell_type": "code",
   "execution_count": 16,
   "metadata": {
    "scrolled": true
   },
   "outputs": [
    {
     "name": "stdout",
     "output_type": "stream",
     "text": [
      "Boise                  338\n",
      "Denver                 338\n",
      "Indianapolis           338\n",
      "Chicago                338\n",
      "Southeast              338\n",
      "Columbus               338\n",
      "Syracuse               338\n",
      "California             338\n",
      "Pittsburgh             338\n",
      "TotalUS                338\n",
      "BaltimoreWashington    338\n",
      "BuffaloRochester       338\n",
      "West                   338\n",
      "NewYork                338\n",
      "Spokane                338\n",
      "Plains                 338\n",
      "NorthernNewEngland     338\n",
      "CincinnatiDayton       338\n",
      "GreatLakes             338\n",
      "Seattle                338\n",
      "RaleighGreensboro      338\n",
      "Portland               338\n",
      "Jacksonville           338\n",
      "Philadelphia           338\n",
      "LasVegas               338\n",
      "MiamiFtLauderdale      338\n",
      "Nashville              338\n",
      "HartfordSpringfield    338\n",
      "PhoenixTucson          338\n",
      "Atlanta                338\n",
      "NewOrleansMobile       338\n",
      "Albany                 338\n",
      "Detroit                338\n",
      "Tampa                  338\n",
      "StLouis                338\n",
      "SouthCentral           338\n",
      "Houston                338\n",
      "RichmondNorfolk        338\n",
      "Orlando                338\n",
      "Sacramento             338\n",
      "HarrisburgScranton     338\n",
      "GrandRapids            338\n",
      "Northeast              338\n",
      "SanFrancisco           338\n",
      "Charlotte              338\n",
      "Louisville             338\n",
      "Roanoke                338\n",
      "SanDiego               338\n",
      "SouthCarolina          338\n",
      "Boston                 338\n",
      "DallasFtWorth          338\n",
      "LosAngeles             338\n",
      "Midsouth               338\n",
      "WestTexNewMexico       335\n",
      "Name: region, dtype: int64\n"
     ]
    },
    {
     "data": {
      "image/png": "[encoded data removed]",
      "text/plain": [
       "<Figure size 432x288 with 1 Axes>"
      ]
     },
     "metadata": {
      "needs_background": "light"
     },
     "output_type": "display_data"
    }
   ],
   "source": [
    "#Using countplot for nominal data\n",
    "ab=sns.countplot(x='region', data=df_nominal)\n",
    "print(df_nominal['region'].value_counts())"
   ]
  },
  {
   "cell_type": "markdown",
   "metadata": {},
   "source": [
    "From the above information, we can see that most of our data is from the region California, Albany, BaltimoreWashington & Boise and least data is from the region Seattle, Southeast & LosAngeles. "
   ]
  },
  {
   "cell_type": "code",
   "execution_count": 17,
   "metadata": {},
   "outputs": [
    {
     "name": "stdout",
     "output_type": "stream",
     "text": [
      "2017    5722\n",
      "2016    5616\n",
      "2015    5615\n",
      "2018    1296\n",
      "Name: year, dtype: int64\n"
     ]
    },
    {
     "data": {
      "image/png": "[encoded data removed]",
      "text/plain": [
       "<Figure size 432x288 with 1 Axes>"
      ]
     },
     "metadata": {
      "needs_background": "light"
     },
     "output_type": "display_data"
    }
   ],
   "source": [
    "#Using countplot for nominal data\n",
    "ab=sns.countplot(x='year', data=df_nominal)\n",
    "print(df_nominal['year'].value_counts())"
   ]
  },
  {
   "cell_type": "markdown",
   "metadata": {},
   "source": [
    "More than 1200 number of data belongs to the year 2015 and hardly 200 number of data belongs to the year 2016."
   ]
  },
  {
   "cell_type": "markdown",
   "metadata": {},
   "source": [
    "# Checking the distribution of the continuous value of the float type columns"
   ]
  },
  {
   "cell_type": "code",
   "execution_count": 18,
   "metadata": {},
   "outputs": [],
   "source": [
    "#Copying our continuous data into a new dataframe\n",
    "df_continuous=df[['Unnamed: 0', 'AveragePrice', 'Total Volume', '4046', '4225', '4770','Total Bags', 'Small Bags', 'Large Bags', 'XLarge Bags']].copy()"
   ]
  },
  {
   "cell_type": "code",
   "execution_count": 19,
   "metadata": {},
   "outputs": [
    {
     "data": {
      "text/plain": [
       "Index(['Unnamed: 0', 'AveragePrice', 'Total Volume', '4046', '4225', '4770',\n",
       "       'Total Bags', 'Small Bags', 'Large Bags', 'XLarge Bags'],\n",
       "      dtype='object')"
      ]
     },
     "execution_count": 19,
     "metadata": {},
     "output_type": "execute_result"
    }
   ],
   "source": [
    "#Checking columns of our new continuous dataframe\n",
    "df_continuous.columns"
   ]
  },
  {
   "cell_type": "code",
   "execution_count": 20,
   "metadata": {},
   "outputs": [
    {
     "name": "stderr",
     "output_type": "stream",
     "text": [
      "C:\\Users\\Kartik Jora\\anaconda3\\lib\\site-packages\\seaborn\\distributions.py:2557: FutureWarning: `distplot` is a deprecated function and will be removed in a future version. Please adapt your code to use either `displot` (a figure-level function with similar flexibility) or `histplot` (an axes-level function for histograms).\n",
      "  warnings.warn(msg, FutureWarning)\n"
     ]
    },
    {
     "data": {
      "text/plain": [
       "<AxesSubplot:xlabel='AveragePrice', ylabel='Density'>"
      ]
     },
     "execution_count": 20,
     "metadata": {},
     "output_type": "execute_result"
    },
    {
     "data": {
      "image/png": "[encoded data removed]",
      "text/plain": [
       "<Figure size 432x288 with 1 Axes>"
      ]
     },
     "metadata": {
      "needs_background": "light"
     },
     "output_type": "display_data"
    }
   ],
   "source": [
    "import seaborn as sns\n",
    "sns.distplot(df['AveragePrice'],kde=True)"
   ]
  },
  {
   "cell_type": "markdown",
   "metadata": {},
   "source": [
    "The AveragePrice is high between values 0.9 to 1.3 per Avocado."
   ]
  },
  {
   "cell_type": "code",
   "execution_count": 21,
   "metadata": {},
   "outputs": [
    {
     "name": "stderr",
     "output_type": "stream",
     "text": [
      "C:\\Users\\Kartik Jora\\anaconda3\\lib\\site-packages\\seaborn\\distributions.py:2557: FutureWarning: `distplot` is a deprecated function and will be removed in a future version. Please adapt your code to use either `displot` (a figure-level function with similar flexibility) or `histplot` (an axes-level function for histograms).\n",
      "  warnings.warn(msg, FutureWarning)\n",
      "C:\\Users\\Kartik Jora\\anaconda3\\lib\\site-packages\\seaborn\\distributions.py:2557: FutureWarning: `distplot` is a deprecated function and will be removed in a future version. Please adapt your code to use either `displot` (a figure-level function with similar flexibility) or `histplot` (an axes-level function for histograms).\n",
      "  warnings.warn(msg, FutureWarning)\n",
      "C:\\Users\\Kartik Jora\\anaconda3\\lib\\site-packages\\seaborn\\distributions.py:2557: FutureWarning: `distplot` is a deprecated function and will be removed in a future version. Please adapt your code to use either `displot` (a figure-level function with similar flexibility) or `histplot` (an axes-level function for histograms).\n",
      "  warnings.warn(msg, FutureWarning)\n",
      "C:\\Users\\Kartik Jora\\anaconda3\\lib\\site-packages\\seaborn\\distributions.py:2557: FutureWarning: `distplot` is a deprecated function and will be removed in a future version. Please adapt your code to use either `displot` (a figure-level function with similar flexibility) or `histplot` (an axes-level function for histograms).\n",
      "  warnings.warn(msg, FutureWarning)\n",
      "C:\\Users\\Kartik Jora\\anaconda3\\lib\\site-packages\\seaborn\\distributions.py:2557: FutureWarning: `distplot` is a deprecated function and will be removed in a future version. Please adapt your code to use either `displot` (a figure-level function with similar flexibility) or `histplot` (an axes-level function for histograms).\n",
      "  warnings.warn(msg, FutureWarning)\n",
      "C:\\Users\\Kartik Jora\\anaconda3\\lib\\site-packages\\seaborn\\distributions.py:2557: FutureWarning: `distplot` is a deprecated function and will be removed in a future version. Please adapt your code to use either `displot` (a figure-level function with similar flexibility) or `histplot` (an axes-level function for histograms).\n",
      "  warnings.warn(msg, FutureWarning)\n",
      "C:\\Users\\Kartik Jora\\anaconda3\\lib\\site-packages\\seaborn\\distributions.py:2557: FutureWarning: `distplot` is a deprecated function and will be removed in a future version. Please adapt your code to use either `displot` (a figure-level function with similar flexibility) or `histplot` (an axes-level function for histograms).\n",
      "  warnings.warn(msg, FutureWarning)\n",
      "C:\\Users\\Kartik Jora\\anaconda3\\lib\\site-packages\\seaborn\\distributions.py:2557: FutureWarning: `distplot` is a deprecated function and will be removed in a future version. Please adapt your code to use either `displot` (a figure-level function with similar flexibility) or `histplot` (an axes-level function for histograms).\n",
      "  warnings.warn(msg, FutureWarning)\n",
      "C:\\Users\\Kartik Jora\\anaconda3\\lib\\site-packages\\seaborn\\distributions.py:2557: FutureWarning: `distplot` is a deprecated function and will be removed in a future version. Please adapt your code to use either `displot` (a figure-level function with similar flexibility) or `histplot` (an axes-level function for histograms).\n",
      "  warnings.warn(msg, FutureWarning)\n",
      "C:\\Users\\Kartik Jora\\anaconda3\\lib\\site-packages\\seaborn\\distributions.py:2557: FutureWarning: `distplot` is a deprecated function and will be removed in a future version. Please adapt your code to use either `displot` (a figure-level function with similar flexibility) or `histplot` (an axes-level function for histograms).\n",
      "  warnings.warn(msg, FutureWarning)\n"
     ]
    },
    {
     "data": {
      "image/png": "[encoded data removed]",
      "text/plain": [
       "<Figure size 720x720 with 10 Axes>"
      ]
     },
     "metadata": {
      "needs_background": "light"
     },
     "output_type": "display_data"
    }
   ],
   "source": [
    "#Visualizing different columns using distplot\n",
    "ncol,nrow=4,3\n",
    "ab=df_continuous.columns.values\n",
    "plt.figure(figsize=(10,10))\n",
    "for index,i in enumerate(ab):\n",
    "    ab=plt.subplot(ncol,nrow,index+1)\n",
    "    sns.distplot(df[i])\n",
    "    plt.title(f\"plot {i}\")\n",
    "    plt.tight_layout()\n",
    "plt.show()"
   ]
  },
  {
   "cell_type": "markdown",
   "metadata": {},
   "source": [
    "In figure plot No.:\n",
    "    The values are between 0 to 50\n",
    "    \n",
    "In figure plot AveragePrice:\n",
    "    The values are in the range 0.5 to 2\n",
    "    \n",
    "In figure plot Total Volume:\n",
    "    The maximum values are between 0 & 1\n",
    "    \n",
    "In figure plot 4046:\n",
    "    Most of the values lie between values 0 to 0.5\n",
    "    \n",
    "In figure plot 4225:\n",
    "     Most of the values lie between values 0 to 0.4\n",
    "        \n",
    "In figure plot 4770:\n",
    "    The maximum values lie between the range 0 to 1,50,000\n",
    "    \n",
    "In figure plot Total Bags:\n",
    "    Most values are between 0 & 500000\n",
    "    \n",
    "In figure plot Small Bags:\n",
    "    Most values are between 0 & 600000\n",
    "    \n",
    "In figure plot Large Bags:\n",
    "    Most values are between 0 & 300000\n",
    "    \n",
    "In figure plot XLarge Bags:\n",
    "    Maximum number of values lie between 0 to 7000\n",
    "    \n",
    "Hence, we can see that there is a huge variation in values of different columns in our dataset. Therefore, we will have to standardize our data.\n",
    "    \n",
    "    \n",
    "    \n"
   ]
  },
  {
   "cell_type": "code",
   "execution_count": null,
   "metadata": {},
   "outputs": [],
   "source": [
    "#Visualizing using pairplot\n",
    "sns.pairplot(df)"
   ]
  },
  {
   "cell_type": "markdown",
   "metadata": {},
   "source": [
    "Observations:\n",
    "    \n",
    "    We cannot see relationship of any column/variable with respect to our Target Variable i.e. AveragePrice. The data is scattered in an asymmetrical manner. Hence, we cannot conclude anything out of this. Let's move forward with further analysis to find correlations between the columns.\n",
    "    \n",
    "    We can notice that our column 'No.' doesn't serve anything to our dataset. so, we drop the column.\n",
    "    \n",
    "    Also skewness in data can be seen from the above pairplot."
   ]
  },
  {
   "cell_type": "code",
   "execution_count": 23,
   "metadata": {
    "scrolled": true
   },
   "outputs": [],
   "source": [
    "#Dropping column Unnamed: 0\n",
    "df.drop('Unnamed: 0',axis=1,inplace=True)"
   ]
  },
  {
   "cell_type": "code",
   "execution_count": 24,
   "metadata": {
    "scrolled": true
   },
   "outputs": [
    {
     "data": {
      "text/html": [
       "<div>\n",
       "<style scoped>\n",
       "    .dataframe tbody tr th:only-of-type {\n",
       "        vertical-align: middle;\n",
       "    }\n",
       "\n",
       "    .dataframe tbody tr th {\n",
       "        vertical-align: top;\n",
       "    }\n",
       "\n",
       "    .dataframe thead th {\n",
       "        text-align: right;\n",
       "    }\n",
       "</style>\n",
       "<table border=\"1\" class=\"dataframe\">\n",
       "  <thead>\n",
       "    <tr style=\"text-align: right;\">\n",
       "      <th></th>\n",
       "      <th>Date</th>\n",
       "      <th>AveragePrice</th>\n",
       "      <th>Total Volume</th>\n",
       "      <th>4046</th>\n",
       "      <th>4225</th>\n",
       "      <th>4770</th>\n",
       "      <th>Total Bags</th>\n",
       "      <th>Small Bags</th>\n",
       "      <th>Large Bags</th>\n",
       "      <th>XLarge Bags</th>\n",
       "      <th>year</th>\n",
       "      <th>region</th>\n",
       "    </tr>\n",
       "  </thead>\n",
       "  <tbody>\n",
       "    <tr>\n",
       "      <th>0</th>\n",
       "      <td>2015-12-27</td>\n",
       "      <td>1.33</td>\n",
       "      <td>64236.62</td>\n",
       "      <td>1036.74</td>\n",
       "      <td>54454.85</td>\n",
       "      <td>48.16</td>\n",
       "      <td>8696.87</td>\n",
       "      <td>8603.62</td>\n",
       "      <td>93.25</td>\n",
       "      <td>0.0</td>\n",
       "      <td>2015</td>\n",
       "      <td>Albany</td>\n",
       "    </tr>\n",
       "    <tr>\n",
       "      <th>1</th>\n",
       "      <td>2015-12-20</td>\n",
       "      <td>1.35</td>\n",
       "      <td>54876.98</td>\n",
       "      <td>674.28</td>\n",
       "      <td>44638.81</td>\n",
       "      <td>58.33</td>\n",
       "      <td>9505.56</td>\n",
       "      <td>9408.07</td>\n",
       "      <td>97.49</td>\n",
       "      <td>0.0</td>\n",
       "      <td>2015</td>\n",
       "      <td>Albany</td>\n",
       "    </tr>\n",
       "    <tr>\n",
       "      <th>2</th>\n",
       "      <td>2015-12-13</td>\n",
       "      <td>0.93</td>\n",
       "      <td>118220.22</td>\n",
       "      <td>794.70</td>\n",
       "      <td>109149.67</td>\n",
       "      <td>130.50</td>\n",
       "      <td>8145.35</td>\n",
       "      <td>8042.21</td>\n",
       "      <td>103.14</td>\n",
       "      <td>0.0</td>\n",
       "      <td>2015</td>\n",
       "      <td>Albany</td>\n",
       "    </tr>\n",
       "    <tr>\n",
       "      <th>3</th>\n",
       "      <td>2015-12-06</td>\n",
       "      <td>1.08</td>\n",
       "      <td>78992.15</td>\n",
       "      <td>1132.00</td>\n",
       "      <td>71976.41</td>\n",
       "      <td>72.58</td>\n",
       "      <td>5811.16</td>\n",
       "      <td>5677.40</td>\n",
       "      <td>133.76</td>\n",
       "      <td>0.0</td>\n",
       "      <td>2015</td>\n",
       "      <td>Albany</td>\n",
       "    </tr>\n",
       "    <tr>\n",
       "      <th>4</th>\n",
       "      <td>2015-11-29</td>\n",
       "      <td>1.28</td>\n",
       "      <td>51039.60</td>\n",
       "      <td>941.48</td>\n",
       "      <td>43838.39</td>\n",
       "      <td>75.78</td>\n",
       "      <td>6183.95</td>\n",
       "      <td>5986.26</td>\n",
       "      <td>197.69</td>\n",
       "      <td>0.0</td>\n",
       "      <td>2015</td>\n",
       "      <td>Albany</td>\n",
       "    </tr>\n",
       "  </tbody>\n",
       "</table>\n",
       "</div>"
      ],
      "text/plain": [
       "         Date  AveragePrice  Total Volume     4046       4225    4770  \\\n",
       "0  2015-12-27          1.33      64236.62  1036.74   54454.85   48.16   \n",
       "1  2015-12-20          1.35      54876.98   674.28   44638.81   58.33   \n",
       "2  2015-12-13          0.93     118220.22   794.70  109149.67  130.50   \n",
       "3  2015-12-06          1.08      78992.15  1132.00   71976.41   72.58   \n",
       "4  2015-11-29          1.28      51039.60   941.48   43838.39   75.78   \n",
       "\n",
       "   Total Bags  Small Bags  Large Bags  XLarge Bags  year  region  \n",
       "0     8696.87     8603.62       93.25          0.0  2015  Albany  \n",
       "1     9505.56     9408.07       97.49          0.0  2015  Albany  \n",
       "2     8145.35     8042.21      103.14          0.0  2015  Albany  \n",
       "3     5811.16     5677.40      133.76          0.0  2015  Albany  \n",
       "4     6183.95     5986.26      197.69          0.0  2015  Albany  "
      ]
     },
     "execution_count": 24,
     "metadata": {},
     "output_type": "execute_result"
    }
   ],
   "source": [
    "#verifying the above dropped column\n",
    "df.head()"
   ]
  },
  {
   "cell_type": "markdown",
   "metadata": {},
   "source": [
    "# Encoding of DataFrame"
   ]
  },
  {
   "cell_type": "code",
   "execution_count": 25,
   "metadata": {},
   "outputs": [],
   "source": [
    "#Importing Library for Ordinal Encoder\n",
    "#Creating an instance for Ordinal Encoder\n",
    "from sklearn.preprocessing import OrdinalEncoder\n",
    "enc=OrdinalEncoder()"
   ]
  },
  {
   "cell_type": "code",
   "execution_count": 26,
   "metadata": {},
   "outputs": [],
   "source": [
    "#Converting all object datatype values into float values\n",
    "for i in df.columns:\n",
    "    if df[i].dtypes=='object':\n",
    "        df[i]=enc.fit_transform(df[i].values.reshape(-1,1))"
   ]
  },
  {
   "cell_type": "code",
   "execution_count": 27,
   "metadata": {},
   "outputs": [
    {
     "data": {
      "text/html": [
       "<div>\n",
       "<style scoped>\n",
       "    .dataframe tbody tr th:only-of-type {\n",
       "        vertical-align: middle;\n",
       "    }\n",
       "\n",
       "    .dataframe tbody tr th {\n",
       "        vertical-align: top;\n",
       "    }\n",
       "\n",
       "    .dataframe thead th {\n",
       "        text-align: right;\n",
       "    }\n",
       "</style>\n",
       "<table border=\"1\" class=\"dataframe\">\n",
       "  <thead>\n",
       "    <tr style=\"text-align: right;\">\n",
       "      <th></th>\n",
       "      <th>Date</th>\n",
       "      <th>AveragePrice</th>\n",
       "      <th>Total Volume</th>\n",
       "      <th>4046</th>\n",
       "      <th>4225</th>\n",
       "      <th>4770</th>\n",
       "      <th>Total Bags</th>\n",
       "      <th>Small Bags</th>\n",
       "      <th>Large Bags</th>\n",
       "      <th>XLarge Bags</th>\n",
       "      <th>year</th>\n",
       "      <th>region</th>\n",
       "    </tr>\n",
       "  </thead>\n",
       "  <tbody>\n",
       "    <tr>\n",
       "      <th>0</th>\n",
       "      <td>51.0</td>\n",
       "      <td>1.33</td>\n",
       "      <td>64236.62</td>\n",
       "      <td>1036.74</td>\n",
       "      <td>54454.85</td>\n",
       "      <td>48.16</td>\n",
       "      <td>8696.87</td>\n",
       "      <td>8603.62</td>\n",
       "      <td>93.25</td>\n",
       "      <td>0.0</td>\n",
       "      <td>2015</td>\n",
       "      <td>0.0</td>\n",
       "    </tr>\n",
       "    <tr>\n",
       "      <th>1</th>\n",
       "      <td>50.0</td>\n",
       "      <td>1.35</td>\n",
       "      <td>54876.98</td>\n",
       "      <td>674.28</td>\n",
       "      <td>44638.81</td>\n",
       "      <td>58.33</td>\n",
       "      <td>9505.56</td>\n",
       "      <td>9408.07</td>\n",
       "      <td>97.49</td>\n",
       "      <td>0.0</td>\n",
       "      <td>2015</td>\n",
       "      <td>0.0</td>\n",
       "    </tr>\n",
       "    <tr>\n",
       "      <th>2</th>\n",
       "      <td>49.0</td>\n",
       "      <td>0.93</td>\n",
       "      <td>118220.22</td>\n",
       "      <td>794.70</td>\n",
       "      <td>109149.67</td>\n",
       "      <td>130.50</td>\n",
       "      <td>8145.35</td>\n",
       "      <td>8042.21</td>\n",
       "      <td>103.14</td>\n",
       "      <td>0.0</td>\n",
       "      <td>2015</td>\n",
       "      <td>0.0</td>\n",
       "    </tr>\n",
       "    <tr>\n",
       "      <th>3</th>\n",
       "      <td>48.0</td>\n",
       "      <td>1.08</td>\n",
       "      <td>78992.15</td>\n",
       "      <td>1132.00</td>\n",
       "      <td>71976.41</td>\n",
       "      <td>72.58</td>\n",
       "      <td>5811.16</td>\n",
       "      <td>5677.40</td>\n",
       "      <td>133.76</td>\n",
       "      <td>0.0</td>\n",
       "      <td>2015</td>\n",
       "      <td>0.0</td>\n",
       "    </tr>\n",
       "    <tr>\n",
       "      <th>4</th>\n",
       "      <td>47.0</td>\n",
       "      <td>1.28</td>\n",
       "      <td>51039.60</td>\n",
       "      <td>941.48</td>\n",
       "      <td>43838.39</td>\n",
       "      <td>75.78</td>\n",
       "      <td>6183.95</td>\n",
       "      <td>5986.26</td>\n",
       "      <td>197.69</td>\n",
       "      <td>0.0</td>\n",
       "      <td>2015</td>\n",
       "      <td>0.0</td>\n",
       "    </tr>\n",
       "    <tr>\n",
       "      <th>...</th>\n",
       "      <td>...</td>\n",
       "      <td>...</td>\n",
       "      <td>...</td>\n",
       "      <td>...</td>\n",
       "      <td>...</td>\n",
       "      <td>...</td>\n",
       "      <td>...</td>\n",
       "      <td>...</td>\n",
       "      <td>...</td>\n",
       "      <td>...</td>\n",
       "      <td>...</td>\n",
       "      <td>...</td>\n",
       "    </tr>\n",
       "    <tr>\n",
       "      <th>18244</th>\n",
       "      <td>161.0</td>\n",
       "      <td>1.63</td>\n",
       "      <td>17074.83</td>\n",
       "      <td>2046.96</td>\n",
       "      <td>1529.20</td>\n",
       "      <td>0.00</td>\n",
       "      <td>13498.67</td>\n",
       "      <td>13066.82</td>\n",
       "      <td>431.85</td>\n",
       "      <td>0.0</td>\n",
       "      <td>2018</td>\n",
       "      <td>53.0</td>\n",
       "    </tr>\n",
       "    <tr>\n",
       "      <th>18245</th>\n",
       "      <td>160.0</td>\n",
       "      <td>1.71</td>\n",
       "      <td>13888.04</td>\n",
       "      <td>1191.70</td>\n",
       "      <td>3431.50</td>\n",
       "      <td>0.00</td>\n",
       "      <td>9264.84</td>\n",
       "      <td>8940.04</td>\n",
       "      <td>324.80</td>\n",
       "      <td>0.0</td>\n",
       "      <td>2018</td>\n",
       "      <td>53.0</td>\n",
       "    </tr>\n",
       "    <tr>\n",
       "      <th>18246</th>\n",
       "      <td>159.0</td>\n",
       "      <td>1.87</td>\n",
       "      <td>13766.76</td>\n",
       "      <td>1191.92</td>\n",
       "      <td>2452.79</td>\n",
       "      <td>727.94</td>\n",
       "      <td>9394.11</td>\n",
       "      <td>9351.80</td>\n",
       "      <td>42.31</td>\n",
       "      <td>0.0</td>\n",
       "      <td>2018</td>\n",
       "      <td>53.0</td>\n",
       "    </tr>\n",
       "    <tr>\n",
       "      <th>18247</th>\n",
       "      <td>158.0</td>\n",
       "      <td>1.93</td>\n",
       "      <td>16205.22</td>\n",
       "      <td>1527.63</td>\n",
       "      <td>2981.04</td>\n",
       "      <td>727.01</td>\n",
       "      <td>10969.54</td>\n",
       "      <td>10919.54</td>\n",
       "      <td>50.00</td>\n",
       "      <td>0.0</td>\n",
       "      <td>2018</td>\n",
       "      <td>53.0</td>\n",
       "    </tr>\n",
       "    <tr>\n",
       "      <th>18248</th>\n",
       "      <td>157.0</td>\n",
       "      <td>1.62</td>\n",
       "      <td>17489.58</td>\n",
       "      <td>2894.77</td>\n",
       "      <td>2356.13</td>\n",
       "      <td>224.53</td>\n",
       "      <td>12014.15</td>\n",
       "      <td>11988.14</td>\n",
       "      <td>26.01</td>\n",
       "      <td>0.0</td>\n",
       "      <td>2018</td>\n",
       "      <td>53.0</td>\n",
       "    </tr>\n",
       "  </tbody>\n",
       "</table>\n",
       "<p>18249 rows × 12 columns</p>\n",
       "</div>"
      ],
      "text/plain": [
       "        Date  AveragePrice  Total Volume     4046       4225    4770  \\\n",
       "0       51.0          1.33      64236.62  1036.74   54454.85   48.16   \n",
       "1       50.0          1.35      54876.98   674.28   44638.81   58.33   \n",
       "2       49.0          0.93     118220.22   794.70  109149.67  130.50   \n",
       "3       48.0          1.08      78992.15  1132.00   71976.41   72.58   \n",
       "4       47.0          1.28      51039.60   941.48   43838.39   75.78   \n",
       "...      ...           ...           ...      ...        ...     ...   \n",
       "18244  161.0          1.63      17074.83  2046.96    1529.20    0.00   \n",
       "18245  160.0          1.71      13888.04  1191.70    3431.50    0.00   \n",
       "18246  159.0          1.87      13766.76  1191.92    2452.79  727.94   \n",
       "18247  158.0          1.93      16205.22  1527.63    2981.04  727.01   \n",
       "18248  157.0          1.62      17489.58  2894.77    2356.13  224.53   \n",
       "\n",
       "       Total Bags  Small Bags  Large Bags  XLarge Bags  year  region  \n",
       "0         8696.87     8603.62       93.25          0.0  2015     0.0  \n",
       "1         9505.56     9408.07       97.49          0.0  2015     0.0  \n",
       "2         8145.35     8042.21      103.14          0.0  2015     0.0  \n",
       "3         5811.16     5677.40      133.76          0.0  2015     0.0  \n",
       "4         6183.95     5986.26      197.69          0.0  2015     0.0  \n",
       "...           ...         ...         ...          ...   ...     ...  \n",
       "18244    13498.67    13066.82      431.85          0.0  2018    53.0  \n",
       "18245     9264.84     8940.04      324.80          0.0  2018    53.0  \n",
       "18246     9394.11     9351.80       42.31          0.0  2018    53.0  \n",
       "18247    10969.54    10919.54       50.00          0.0  2018    53.0  \n",
       "18248    12014.15    11988.14       26.01          0.0  2018    53.0  \n",
       "\n",
       "[18249 rows x 12 columns]"
      ]
     },
     "execution_count": 27,
     "metadata": {},
     "output_type": "execute_result"
    }
   ],
   "source": [
    "df"
   ]
  },
  {
   "cell_type": "markdown",
   "metadata": {},
   "source": [
    "Our date and region column are now transformed into float values. Hence, we can move forward with analyzing data."
   ]
  },
  {
   "cell_type": "markdown",
   "metadata": {},
   "source": [
    "# Describe Data"
   ]
  },
  {
   "cell_type": "code",
   "execution_count": 28,
   "metadata": {},
   "outputs": [
    {
     "data": {
      "text/plain": [
       "(18249, 12)"
      ]
     },
     "execution_count": 28,
     "metadata": {},
     "output_type": "execute_result"
    }
   ],
   "source": [
    "#Describing shape of data\n",
    "df.shape"
   ]
  },
  {
   "cell_type": "markdown",
   "metadata": {},
   "source": [
    "We have 1517 rows and 12 columns in our dataset including the Target Variable."
   ]
  },
  {
   "cell_type": "code",
   "execution_count": 29,
   "metadata": {},
   "outputs": [
    {
     "data": {
      "text/plain": [
       "Index(['Date', 'AveragePrice', 'Total Volume', '4046', '4225', '4770',\n",
       "       'Total Bags', 'Small Bags', 'Large Bags', 'XLarge Bags', 'year',\n",
       "       'region'],\n",
       "      dtype='object')"
      ]
     },
     "execution_count": 29,
     "metadata": {},
     "output_type": "execute_result"
    }
   ],
   "source": [
    "#Describing present columns in our dataset\n",
    "df.columns"
   ]
  },
  {
   "cell_type": "code",
   "execution_count": 30,
   "metadata": {},
   "outputs": [
    {
     "name": "stdout",
     "output_type": "stream",
     "text": [
      "<class 'pandas.core.frame.DataFrame'>\n",
      "Int64Index: 18249 entries, 0 to 18248\n",
      "Data columns (total 12 columns):\n",
      " #   Column        Non-Null Count  Dtype  \n",
      "---  ------        --------------  -----  \n",
      " 0   Date          18249 non-null  float64\n",
      " 1   AveragePrice  18249 non-null  float64\n",
      " 2   Total Volume  18249 non-null  float64\n",
      " 3   4046          18249 non-null  float64\n",
      " 4   4225          18249 non-null  float64\n",
      " 5   4770          18249 non-null  float64\n",
      " 6   Total Bags    18249 non-null  float64\n",
      " 7   Small Bags    18249 non-null  float64\n",
      " 8   Large Bags    18249 non-null  float64\n",
      " 9   XLarge Bags   18249 non-null  float64\n",
      " 10  year          18249 non-null  int64  \n",
      " 11  region        18249 non-null  float64\n",
      "dtypes: float64(11), int64(1)\n",
      "memory usage: 2.3 MB\n"
     ]
    }
   ],
   "source": [
    "df.info()"
   ]
  },
  {
   "cell_type": "markdown",
   "metadata": {},
   "source": [
    "All values in our data set are in float and there are no null values present.\n",
    "\n",
    "Total number of rows present are 1517."
   ]
  },
  {
   "cell_type": "code",
   "execution_count": 31,
   "metadata": {},
   "outputs": [
    {
     "data": {
      "text/html": [
       "<div>\n",
       "<style scoped>\n",
       "    .dataframe tbody tr th:only-of-type {\n",
       "        vertical-align: middle;\n",
       "    }\n",
       "\n",
       "    .dataframe tbody tr th {\n",
       "        vertical-align: top;\n",
       "    }\n",
       "\n",
       "    .dataframe thead th {\n",
       "        text-align: right;\n",
       "    }\n",
       "</style>\n",
       "<table border=\"1\" class=\"dataframe\">\n",
       "  <thead>\n",
       "    <tr style=\"text-align: right;\">\n",
       "      <th></th>\n",
       "      <th>Date</th>\n",
       "      <th>AveragePrice</th>\n",
       "      <th>Total Volume</th>\n",
       "      <th>4046</th>\n",
       "      <th>4225</th>\n",
       "      <th>4770</th>\n",
       "      <th>Total Bags</th>\n",
       "      <th>Small Bags</th>\n",
       "      <th>Large Bags</th>\n",
       "      <th>XLarge Bags</th>\n",
       "      <th>year</th>\n",
       "      <th>region</th>\n",
       "    </tr>\n",
       "  </thead>\n",
       "  <tbody>\n",
       "    <tr>\n",
       "      <th>count</th>\n",
       "      <td>18249.000000</td>\n",
       "      <td>18249.000000</td>\n",
       "      <td>1.824900e+04</td>\n",
       "      <td>1.824900e+04</td>\n",
       "      <td>1.824900e+04</td>\n",
       "      <td>1.824900e+04</td>\n",
       "      <td>1.824900e+04</td>\n",
       "      <td>1.824900e+04</td>\n",
       "      <td>1.824900e+04</td>\n",
       "      <td>18249.000000</td>\n",
       "      <td>18249.000000</td>\n",
       "      <td>18249.000000</td>\n",
       "    </tr>\n",
       "    <tr>\n",
       "      <th>mean</th>\n",
       "      <td>83.997096</td>\n",
       "      <td>1.405978</td>\n",
       "      <td>8.506440e+05</td>\n",
       "      <td>2.930084e+05</td>\n",
       "      <td>2.951546e+05</td>\n",
       "      <td>2.283974e+04</td>\n",
       "      <td>2.396392e+05</td>\n",
       "      <td>1.821947e+05</td>\n",
       "      <td>5.433809e+04</td>\n",
       "      <td>3106.426507</td>\n",
       "      <td>2016.147899</td>\n",
       "      <td>26.495644</td>\n",
       "    </tr>\n",
       "    <tr>\n",
       "      <th>std</th>\n",
       "      <td>48.787638</td>\n",
       "      <td>0.402677</td>\n",
       "      <td>3.453545e+06</td>\n",
       "      <td>1.264989e+06</td>\n",
       "      <td>1.204120e+06</td>\n",
       "      <td>1.074641e+05</td>\n",
       "      <td>9.862424e+05</td>\n",
       "      <td>7.461785e+05</td>\n",
       "      <td>2.439660e+05</td>\n",
       "      <td>17692.894652</td>\n",
       "      <td>0.939938</td>\n",
       "      <td>15.583788</td>\n",
       "    </tr>\n",
       "    <tr>\n",
       "      <th>min</th>\n",
       "      <td>0.000000</td>\n",
       "      <td>0.440000</td>\n",
       "      <td>8.456000e+01</td>\n",
       "      <td>0.000000e+00</td>\n",
       "      <td>0.000000e+00</td>\n",
       "      <td>0.000000e+00</td>\n",
       "      <td>0.000000e+00</td>\n",
       "      <td>0.000000e+00</td>\n",
       "      <td>0.000000e+00</td>\n",
       "      <td>0.000000</td>\n",
       "      <td>2015.000000</td>\n",
       "      <td>0.000000</td>\n",
       "    </tr>\n",
       "    <tr>\n",
       "      <th>25%</th>\n",
       "      <td>42.000000</td>\n",
       "      <td>1.100000</td>\n",
       "      <td>1.083858e+04</td>\n",
       "      <td>8.540700e+02</td>\n",
       "      <td>3.008780e+03</td>\n",
       "      <td>0.000000e+00</td>\n",
       "      <td>5.088640e+03</td>\n",
       "      <td>2.849420e+03</td>\n",
       "      <td>1.274700e+02</td>\n",
       "      <td>0.000000</td>\n",
       "      <td>2015.000000</td>\n",
       "      <td>13.000000</td>\n",
       "    </tr>\n",
       "    <tr>\n",
       "      <th>50%</th>\n",
       "      <td>84.000000</td>\n",
       "      <td>1.370000</td>\n",
       "      <td>1.073768e+05</td>\n",
       "      <td>8.645300e+03</td>\n",
       "      <td>2.906102e+04</td>\n",
       "      <td>1.849900e+02</td>\n",
       "      <td>3.974383e+04</td>\n",
       "      <td>2.636282e+04</td>\n",
       "      <td>2.647710e+03</td>\n",
       "      <td>0.000000</td>\n",
       "      <td>2016.000000</td>\n",
       "      <td>26.000000</td>\n",
       "    </tr>\n",
       "    <tr>\n",
       "      <th>75%</th>\n",
       "      <td>126.000000</td>\n",
       "      <td>1.660000</td>\n",
       "      <td>4.329623e+05</td>\n",
       "      <td>1.110202e+05</td>\n",
       "      <td>1.502069e+05</td>\n",
       "      <td>6.243420e+03</td>\n",
       "      <td>1.107834e+05</td>\n",
       "      <td>8.333767e+04</td>\n",
       "      <td>2.202925e+04</td>\n",
       "      <td>132.500000</td>\n",
       "      <td>2017.000000</td>\n",
       "      <td>40.000000</td>\n",
       "    </tr>\n",
       "    <tr>\n",
       "      <th>max</th>\n",
       "      <td>168.000000</td>\n",
       "      <td>3.250000</td>\n",
       "      <td>6.250565e+07</td>\n",
       "      <td>2.274362e+07</td>\n",
       "      <td>2.047057e+07</td>\n",
       "      <td>2.546439e+06</td>\n",
       "      <td>1.937313e+07</td>\n",
       "      <td>1.338459e+07</td>\n",
       "      <td>5.719097e+06</td>\n",
       "      <td>551693.650000</td>\n",
       "      <td>2018.000000</td>\n",
       "      <td>53.000000</td>\n",
       "    </tr>\n",
       "  </tbody>\n",
       "</table>\n",
       "</div>"
      ],
      "text/plain": [
       "               Date  AveragePrice  Total Volume          4046          4225  \\\n",
       "count  18249.000000  18249.000000  1.824900e+04  1.824900e+04  1.824900e+04   \n",
       "mean      83.997096      1.405978  8.506440e+05  2.930084e+05  2.951546e+05   \n",
       "std       48.787638      0.402677  3.453545e+06  1.264989e+06  1.204120e+06   \n",
       "min        0.000000      0.440000  8.456000e+01  0.000000e+00  0.000000e+00   \n",
       "25%       42.000000      1.100000  1.083858e+04  8.540700e+02  3.008780e+03   \n",
       "50%       84.000000      1.370000  1.073768e+05  8.645300e+03  2.906102e+04   \n",
       "75%      126.000000      1.660000  4.329623e+05  1.110202e+05  1.502069e+05   \n",
       "max      168.000000      3.250000  6.250565e+07  2.274362e+07  2.047057e+07   \n",
       "\n",
       "               4770    Total Bags    Small Bags    Large Bags    XLarge Bags  \\\n",
       "count  1.824900e+04  1.824900e+04  1.824900e+04  1.824900e+04   18249.000000   \n",
       "mean   2.283974e+04  2.396392e+05  1.821947e+05  5.433809e+04    3106.426507   \n",
       "std    1.074641e+05  9.862424e+05  7.461785e+05  2.439660e+05   17692.894652   \n",
       "min    0.000000e+00  0.000000e+00  0.000000e+00  0.000000e+00       0.000000   \n",
       "25%    0.000000e+00  5.088640e+03  2.849420e+03  1.274700e+02       0.000000   \n",
       "50%    1.849900e+02  3.974383e+04  2.636282e+04  2.647710e+03       0.000000   \n",
       "75%    6.243420e+03  1.107834e+05  8.333767e+04  2.202925e+04     132.500000   \n",
       "max    2.546439e+06  1.937313e+07  1.338459e+07  5.719097e+06  551693.650000   \n",
       "\n",
       "               year        region  \n",
       "count  18249.000000  18249.000000  \n",
       "mean    2016.147899     26.495644  \n",
       "std        0.939938     15.583788  \n",
       "min     2015.000000      0.000000  \n",
       "25%     2015.000000     13.000000  \n",
       "50%     2016.000000     26.000000  \n",
       "75%     2017.000000     40.000000  \n",
       "max     2018.000000     53.000000  "
      ]
     },
     "execution_count": 31,
     "metadata": {},
     "output_type": "execute_result"
    }
   ],
   "source": [
    "#Describing data\n",
    "df.describe()"
   ]
  },
  {
   "cell_type": "code",
   "execution_count": 32,
   "metadata": {},
   "outputs": [
    {
     "data": {
      "text/plain": [
       "<AxesSubplot:>"
      ]
     },
     "execution_count": 32,
     "metadata": {},
     "output_type": "execute_result"
    },
    {
     "data": {
      "image/png": "[encoded data removed]",
      "text/plain": [
       "<Figure size 1584x504 with 2 Axes>"
      ]
     },
     "metadata": {
      "needs_background": "light"
     },
     "output_type": "display_data"
    }
   ],
   "source": [
    "#Describing data with the help of Visualization\n",
    "import matplotlib.pyplot as plt\n",
    "plt.figure(figsize=(22,7))\n",
    "sns.heatmap(df.describe(),annot=True,linewidths=0.1,linecolor='blue',fmt='0.2f')"
   ]
  },
  {
   "cell_type": "markdown",
   "metadata": {},
   "source": [
    "Observations:\n",
    "    \n",
    "    There is a huge variation in min & max values of each column.\n",
    "    \n",
    "    The standard deviation of almost every column is very high which means that the data is broadly scattered in our\n",
    "    dataset.\n",
    "    \n",
    "    The data can also be seen going too far from their IQR range. Hence, there is a possibility of having outliers."
   ]
  },
  {
   "cell_type": "markdown",
   "metadata": {},
   "source": [
    "# Correlation of Columns with the Target Variable"
   ]
  },
  {
   "cell_type": "code",
   "execution_count": 33,
   "metadata": {},
   "outputs": [
    {
     "data": {
      "text/html": [
       "<div>\n",
       "<style scoped>\n",
       "    .dataframe tbody tr th:only-of-type {\n",
       "        vertical-align: middle;\n",
       "    }\n",
       "\n",
       "    .dataframe tbody tr th {\n",
       "        vertical-align: top;\n",
       "    }\n",
       "\n",
       "    .dataframe thead th {\n",
       "        text-align: right;\n",
       "    }\n",
       "</style>\n",
       "<table border=\"1\" class=\"dataframe\">\n",
       "  <thead>\n",
       "    <tr style=\"text-align: right;\">\n",
       "      <th></th>\n",
       "      <th>Date</th>\n",
       "      <th>AveragePrice</th>\n",
       "      <th>Total Volume</th>\n",
       "      <th>4046</th>\n",
       "      <th>4225</th>\n",
       "      <th>4770</th>\n",
       "      <th>Total Bags</th>\n",
       "      <th>Small Bags</th>\n",
       "      <th>Large Bags</th>\n",
       "      <th>XLarge Bags</th>\n",
       "      <th>year</th>\n",
       "      <th>region</th>\n",
       "    </tr>\n",
       "  </thead>\n",
       "  <tbody>\n",
       "    <tr>\n",
       "      <th>Date</th>\n",
       "      <td>1.000000</td>\n",
       "      <td>0.145514</td>\n",
       "      <td>0.009263</td>\n",
       "      <td>-0.005028</td>\n",
       "      <td>-0.016895</td>\n",
       "      <td>-0.047517</td>\n",
       "      <td>0.064688</td>\n",
       "      <td>0.056902</td>\n",
       "      <td>0.081855</td>\n",
       "      <td>0.077374</td>\n",
       "      <td>0.950274</td>\n",
       "      <td>-0.000101</td>\n",
       "    </tr>\n",
       "    <tr>\n",
       "      <th>AveragePrice</th>\n",
       "      <td>0.145514</td>\n",
       "      <td>1.000000</td>\n",
       "      <td>-0.192752</td>\n",
       "      <td>-0.208317</td>\n",
       "      <td>-0.172928</td>\n",
       "      <td>-0.179446</td>\n",
       "      <td>-0.177088</td>\n",
       "      <td>-0.174730</td>\n",
       "      <td>-0.172940</td>\n",
       "      <td>-0.117592</td>\n",
       "      <td>0.093197</td>\n",
       "      <td>-0.011716</td>\n",
       "    </tr>\n",
       "    <tr>\n",
       "      <th>Total Volume</th>\n",
       "      <td>0.009263</td>\n",
       "      <td>-0.192752</td>\n",
       "      <td>1.000000</td>\n",
       "      <td>0.977863</td>\n",
       "      <td>0.974181</td>\n",
       "      <td>0.872202</td>\n",
       "      <td>0.963047</td>\n",
       "      <td>0.967238</td>\n",
       "      <td>0.880640</td>\n",
       "      <td>0.747157</td>\n",
       "      <td>0.017193</td>\n",
       "      <td>0.174176</td>\n",
       "    </tr>\n",
       "    <tr>\n",
       "      <th>4046</th>\n",
       "      <td>-0.005028</td>\n",
       "      <td>-0.208317</td>\n",
       "      <td>0.977863</td>\n",
       "      <td>1.000000</td>\n",
       "      <td>0.926110</td>\n",
       "      <td>0.833389</td>\n",
       "      <td>0.920057</td>\n",
       "      <td>0.925280</td>\n",
       "      <td>0.838645</td>\n",
       "      <td>0.699377</td>\n",
       "      <td>0.003353</td>\n",
       "      <td>0.192073</td>\n",
       "    </tr>\n",
       "    <tr>\n",
       "      <th>4225</th>\n",
       "      <td>-0.016895</td>\n",
       "      <td>-0.172928</td>\n",
       "      <td>0.974181</td>\n",
       "      <td>0.926110</td>\n",
       "      <td>1.000000</td>\n",
       "      <td>0.887855</td>\n",
       "      <td>0.905787</td>\n",
       "      <td>0.916031</td>\n",
       "      <td>0.810015</td>\n",
       "      <td>0.688809</td>\n",
       "      <td>-0.009559</td>\n",
       "      <td>0.145726</td>\n",
       "    </tr>\n",
       "    <tr>\n",
       "      <th>4770</th>\n",
       "      <td>-0.047517</td>\n",
       "      <td>-0.179446</td>\n",
       "      <td>0.872202</td>\n",
       "      <td>0.833389</td>\n",
       "      <td>0.887855</td>\n",
       "      <td>1.000000</td>\n",
       "      <td>0.792314</td>\n",
       "      <td>0.802733</td>\n",
       "      <td>0.698471</td>\n",
       "      <td>0.679861</td>\n",
       "      <td>-0.036531</td>\n",
       "      <td>0.095252</td>\n",
       "    </tr>\n",
       "    <tr>\n",
       "      <th>Total Bags</th>\n",
       "      <td>0.064688</td>\n",
       "      <td>-0.177088</td>\n",
       "      <td>0.963047</td>\n",
       "      <td>0.920057</td>\n",
       "      <td>0.905787</td>\n",
       "      <td>0.792314</td>\n",
       "      <td>1.000000</td>\n",
       "      <td>0.994335</td>\n",
       "      <td>0.943009</td>\n",
       "      <td>0.804233</td>\n",
       "      <td>0.071552</td>\n",
       "      <td>0.175256</td>\n",
       "    </tr>\n",
       "    <tr>\n",
       "      <th>Small Bags</th>\n",
       "      <td>0.056902</td>\n",
       "      <td>-0.174730</td>\n",
       "      <td>0.967238</td>\n",
       "      <td>0.925280</td>\n",
       "      <td>0.916031</td>\n",
       "      <td>0.802733</td>\n",
       "      <td>0.994335</td>\n",
       "      <td>1.000000</td>\n",
       "      <td>0.902589</td>\n",
       "      <td>0.806845</td>\n",
       "      <td>0.063915</td>\n",
       "      <td>0.164702</td>\n",
       "    </tr>\n",
       "    <tr>\n",
       "      <th>Large Bags</th>\n",
       "      <td>0.081855</td>\n",
       "      <td>-0.172940</td>\n",
       "      <td>0.880640</td>\n",
       "      <td>0.838645</td>\n",
       "      <td>0.810015</td>\n",
       "      <td>0.698471</td>\n",
       "      <td>0.943009</td>\n",
       "      <td>0.902589</td>\n",
       "      <td>1.000000</td>\n",
       "      <td>0.710858</td>\n",
       "      <td>0.087891</td>\n",
       "      <td>0.198768</td>\n",
       "    </tr>\n",
       "    <tr>\n",
       "      <th>XLarge Bags</th>\n",
       "      <td>0.077374</td>\n",
       "      <td>-0.117592</td>\n",
       "      <td>0.747157</td>\n",
       "      <td>0.699377</td>\n",
       "      <td>0.688809</td>\n",
       "      <td>0.679861</td>\n",
       "      <td>0.804233</td>\n",
       "      <td>0.806845</td>\n",
       "      <td>0.710858</td>\n",
       "      <td>1.000000</td>\n",
       "      <td>0.081033</td>\n",
       "      <td>0.082281</td>\n",
       "    </tr>\n",
       "    <tr>\n",
       "      <th>year</th>\n",
       "      <td>0.950274</td>\n",
       "      <td>0.093197</td>\n",
       "      <td>0.017193</td>\n",
       "      <td>0.003353</td>\n",
       "      <td>-0.009559</td>\n",
       "      <td>-0.036531</td>\n",
       "      <td>0.071552</td>\n",
       "      <td>0.063915</td>\n",
       "      <td>0.087891</td>\n",
       "      <td>0.081033</td>\n",
       "      <td>1.000000</td>\n",
       "      <td>-0.000055</td>\n",
       "    </tr>\n",
       "    <tr>\n",
       "      <th>region</th>\n",
       "      <td>-0.000101</td>\n",
       "      <td>-0.011716</td>\n",
       "      <td>0.174176</td>\n",
       "      <td>0.192073</td>\n",
       "      <td>0.145726</td>\n",
       "      <td>0.095252</td>\n",
       "      <td>0.175256</td>\n",
       "      <td>0.164702</td>\n",
       "      <td>0.198768</td>\n",
       "      <td>0.082281</td>\n",
       "      <td>-0.000055</td>\n",
       "      <td>1.000000</td>\n",
       "    </tr>\n",
       "  </tbody>\n",
       "</table>\n",
       "</div>"
      ],
      "text/plain": [
       "                  Date  AveragePrice  Total Volume      4046      4225  \\\n",
       "Date          1.000000      0.145514      0.009263 -0.005028 -0.016895   \n",
       "AveragePrice  0.145514      1.000000     -0.192752 -0.208317 -0.172928   \n",
       "Total Volume  0.009263     -0.192752      1.000000  0.977863  0.974181   \n",
       "4046         -0.005028     -0.208317      0.977863  1.000000  0.926110   \n",
       "4225         -0.016895     -0.172928      0.974181  0.926110  1.000000   \n",
       "4770         -0.047517     -0.179446      0.872202  0.833389  0.887855   \n",
       "Total Bags    0.064688     -0.177088      0.963047  0.920057  0.905787   \n",
       "Small Bags    0.056902     -0.174730      0.967238  0.925280  0.916031   \n",
       "Large Bags    0.081855     -0.172940      0.880640  0.838645  0.810015   \n",
       "XLarge Bags   0.077374     -0.117592      0.747157  0.699377  0.688809   \n",
       "year          0.950274      0.093197      0.017193  0.003353 -0.009559   \n",
       "region       -0.000101     -0.011716      0.174176  0.192073  0.145726   \n",
       "\n",
       "                  4770  Total Bags  Small Bags  Large Bags  XLarge Bags  \\\n",
       "Date         -0.047517    0.064688    0.056902    0.081855     0.077374   \n",
       "AveragePrice -0.179446   -0.177088   -0.174730   -0.172940    -0.117592   \n",
       "Total Volume  0.872202    0.963047    0.967238    0.880640     0.747157   \n",
       "4046          0.833389    0.920057    0.925280    0.838645     0.699377   \n",
       "4225          0.887855    0.905787    0.916031    0.810015     0.688809   \n",
       "4770          1.000000    0.792314    0.802733    0.698471     0.679861   \n",
       "Total Bags    0.792314    1.000000    0.994335    0.943009     0.804233   \n",
       "Small Bags    0.802733    0.994335    1.000000    0.902589     0.806845   \n",
       "Large Bags    0.698471    0.943009    0.902589    1.000000     0.710858   \n",
       "XLarge Bags   0.679861    0.804233    0.806845    0.710858     1.000000   \n",
       "year         -0.036531    0.071552    0.063915    0.087891     0.081033   \n",
       "region        0.095252    0.175256    0.164702    0.198768     0.082281   \n",
       "\n",
       "                  year    region  \n",
       "Date          0.950274 -0.000101  \n",
       "AveragePrice  0.093197 -0.011716  \n",
       "Total Volume  0.017193  0.174176  \n",
       "4046          0.003353  0.192073  \n",
       "4225         -0.009559  0.145726  \n",
       "4770         -0.036531  0.095252  \n",
       "Total Bags    0.071552  0.175256  \n",
       "Small Bags    0.063915  0.164702  \n",
       "Large Bags    0.087891  0.198768  \n",
       "XLarge Bags   0.081033  0.082281  \n",
       "year          1.000000 -0.000055  \n",
       "region       -0.000055  1.000000  "
      ]
     },
     "execution_count": 33,
     "metadata": {},
     "output_type": "execute_result"
    }
   ],
   "source": [
    "#Describing Correlation\n",
    "df.corr()"
   ]
  },
  {
   "cell_type": "markdown",
   "metadata": {},
   "source": [
    "The data has both positive and negative correlations. Let's conclude better using Visualizing correlation."
   ]
  },
  {
   "cell_type": "code",
   "execution_count": 34,
   "metadata": {},
   "outputs": [
    {
     "data": {
      "text/plain": [
       "<AxesSubplot:>"
      ]
     },
     "execution_count": 34,
     "metadata": {},
     "output_type": "execute_result"
    },
    {
     "data": {
      "image/png": "[encoded data removed]",
      "text/plain": [
       "<Figure size 1584x504 with 2 Axes>"
      ]
     },
     "metadata": {
      "needs_background": "light"
     },
     "output_type": "display_data"
    }
   ],
   "source": [
    "#Visualizing correlation\n",
    "plt.figure(figsize=(22,7))\n",
    "sns.heatmap(df.corr(),annot=True,linewidths=0.1,linecolor='black',fmt='0.2f')"
   ]
  },
  {
   "cell_type": "markdown",
   "metadata": {},
   "source": [
    "The positively correlated columns to the target variable are only Year and Date.\n",
    "\n",
    "Rest all columns have negative correlation with the data.\n",
    "\n",
    "The most positively correlated data to the target variable is Year.\n",
    "\n",
    "The most negatively correlated data to the target variable is Region."
   ]
  },
  {
   "cell_type": "code",
   "execution_count": 35,
   "metadata": {},
   "outputs": [
    {
     "data": {
      "image/png": "[encoded data removed]",
      "text/plain": [
       "<Figure size 1584x504 with 1 Axes>"
      ]
     },
     "metadata": {
      "needs_background": "light"
     },
     "output_type": "display_data"
    }
   ],
   "source": [
    "#Plotting correlation of columns in order with respect to the target variable\n",
    "plt.figure(figsize=(22,7))\n",
    "df.corr()['AveragePrice'].sort_values(ascending=False).drop(['AveragePrice']).plot(kind='bar',color='c')\n",
    "plt.xlabel('Feature',fontsize=14)\n",
    "plt.ylabel('column with target names',fontsize=14)\n",
    "plt.title('correlation',fontsize=18)\n",
    "plt.show()"
   ]
  },
  {
   "cell_type": "markdown",
   "metadata": {},
   "source": [
    "As we can see again that only year and date columns are positively correlated to the target variable, rest all columns are negatively correlated."
   ]
  },
  {
   "cell_type": "markdown",
   "metadata": {},
   "source": [
    "# Checking Skewness"
   ]
  },
  {
   "cell_type": "code",
   "execution_count": 36,
   "metadata": {},
   "outputs": [
    {
     "data": {
      "text/plain": [
       "Date             0.000117\n",
       "AveragePrice     0.580303\n",
       "Total Volume     9.007687\n",
       "4046             8.648220\n",
       "4225             8.942466\n",
       "4770            10.159396\n",
       "Total Bags       9.756072\n",
       "Small Bags       9.540660\n",
       "Large Bags       9.796455\n",
       "XLarge Bags     13.139751\n",
       "year             0.215339\n",
       "region           0.000030\n",
       "dtype: float64"
      ]
     },
     "execution_count": 36,
     "metadata": {},
     "output_type": "execute_result"
    }
   ],
   "source": [
    "df.skew()"
   ]
  },
  {
   "cell_type": "markdown",
   "metadata": {},
   "source": [
    "Keeping threshold +/-0.5 as the range for skewness, we can see that almost all data except for the year and date are highly skewed. Let's first try finding outliers in data.\n"
   ]
  },
  {
   "cell_type": "code",
   "execution_count": 37,
   "metadata": {},
   "outputs": [
    {
     "data": {
      "image/png": "[encoded data removed]",
      "text/plain": [
       "<Figure size 2160x1440 with 40 Axes>"
      ]
     },
     "metadata": {
      "needs_background": "light"
     },
     "output_type": "display_data"
    }
   ],
   "source": [
    "#Visualizing skewness on density graph\n",
    "#Example of multi variate analysis\n",
    "df.plot(kind='density',subplots=True,layout=(4,10),legend=False,sharex=False,figsize=(30,20))\n",
    "plt.show()"
   ]
  },
  {
   "cell_type": "markdown",
   "metadata": {},
   "source": [
    "It is easily observed from the above graph that the data is highly skewed. The skewness needs to be reduced."
   ]
  },
  {
   "cell_type": "markdown",
   "metadata": {},
   "source": [
    "# Checking Outliers"
   ]
  },
  {
   "cell_type": "code",
   "execution_count": 38,
   "metadata": {},
   "outputs": [
    {
     "data": {
      "text/plain": [
       "Date            float64\n",
       "AveragePrice    float64\n",
       "Total Volume    float64\n",
       "4046            float64\n",
       "4225            float64\n",
       "4770            float64\n",
       "Total Bags      float64\n",
       "Small Bags      float64\n",
       "Large Bags      float64\n",
       "XLarge Bags     float64\n",
       "year              int64\n",
       "region          float64\n",
       "dtype: object"
      ]
     },
     "execution_count": 38,
     "metadata": {},
     "output_type": "execute_result"
    }
   ],
   "source": [
    "#Checking datatype of data in each column \n",
    "df.dtypes"
   ]
  },
  {
   "cell_type": "markdown",
   "metadata": {},
   "source": [
    "All values are in float datatype."
   ]
  },
  {
   "cell_type": "code",
   "execution_count": 39,
   "metadata": {},
   "outputs": [
    {
     "data": {
      "text/plain": [
       "<AxesSubplot:>"
      ]
     },
     "execution_count": 39,
     "metadata": {},
     "output_type": "execute_result"
    },
    {
     "data": {
      "image/png": "[encoded data removed]",
      "text/plain": [
       "<Figure size 432x288 with 1 Axes>"
      ]
     },
     "metadata": {
      "needs_background": "light"
     },
     "output_type": "display_data"
    }
   ],
   "source": [
    "df['Total Volume'].plot.box()"
   ]
  },
  {
   "cell_type": "markdown",
   "metadata": {},
   "source": [
    "There are too many outliers present in 'Total Volume'"
   ]
  },
  {
   "cell_type": "code",
   "execution_count": 40,
   "metadata": {},
   "outputs": [
    {
     "data": {
      "text/plain": [
       "<AxesSubplot:>"
      ]
     },
     "execution_count": 40,
     "metadata": {},
     "output_type": "execute_result"
    },
    {
     "data": {
      "image/png": "[encoded data removed]",
      "text/plain": [
       "<Figure size 432x288 with 1 Axes>"
      ]
     },
     "metadata": {
      "needs_background": "light"
     },
     "output_type": "display_data"
    }
   ],
   "source": [
    "df['4046'].plot.box()"
   ]
  },
  {
   "cell_type": "markdown",
   "metadata": {},
   "source": [
    "Too many outliers can be observed in the '4046' column"
   ]
  },
  {
   "cell_type": "code",
   "execution_count": 41,
   "metadata": {},
   "outputs": [
    {
     "data": {
      "text/plain": [
       "Date                AxesSubplot(0.125,0.71587;0.0824468x0.16413)\n",
       "AveragePrice     AxesSubplot(0.223936,0.71587;0.0824468x0.16413)\n",
       "Total Volume     AxesSubplot(0.322872,0.71587;0.0824468x0.16413)\n",
       "4046             AxesSubplot(0.421809,0.71587;0.0824468x0.16413)\n",
       "4225             AxesSubplot(0.520745,0.71587;0.0824468x0.16413)\n",
       "4770             AxesSubplot(0.619681,0.71587;0.0824468x0.16413)\n",
       "Total Bags       AxesSubplot(0.718617,0.71587;0.0824468x0.16413)\n",
       "Small Bags       AxesSubplot(0.817553,0.71587;0.0824468x0.16413)\n",
       "Large Bags         AxesSubplot(0.125,0.518913;0.0824468x0.16413)\n",
       "XLarge Bags     AxesSubplot(0.223936,0.518913;0.0824468x0.16413)\n",
       "year            AxesSubplot(0.322872,0.518913;0.0824468x0.16413)\n",
       "region          AxesSubplot(0.421809,0.518913;0.0824468x0.16413)\n",
       "dtype: object"
      ]
     },
     "execution_count": 41,
     "metadata": {},
     "output_type": "execute_result"
    },
    {
     "data": {
      "image/png": "[encoded data removed]",
      "text/plain": [
       "<Figure size 720x1440 with 32 Axes>"
      ]
     },
     "metadata": {
      "needs_background": "light"
     },
     "output_type": "display_data"
    }
   ],
   "source": [
    "#Multivariate analysis to check outliers of all columns\n",
    "df.plot(kind='box',subplots=True,layout=(4,8),figsize=(10,20))"
   ]
  },
  {
   "cell_type": "markdown",
   "metadata": {},
   "source": [
    "No outliers present in column Date, year & Region\n",
    "\n",
    "Too many outliers present in all the other columns. So we will remove the outliers present to make our data work efficiently.\n",
    "\n"
   ]
  },
  {
   "cell_type": "markdown",
   "metadata": {},
   "source": [
    "# Resolving Outliers"
   ]
  },
  {
   "cell_type": "code",
   "execution_count": 42,
   "metadata": {},
   "outputs": [
    {
     "data": {
      "text/plain": [
       "array([[0.67635986, 0.18868864, 0.22771641, ..., 0.17557961, 1.22128204,\n",
       "        1.7002522 ],\n",
       "       [0.69685742, 0.13901962, 0.23042664, ..., 0.17557961, 1.22128204,\n",
       "        1.7002522 ],\n",
       "       [0.71735497, 1.18206895, 0.21208462, ..., 0.17557961, 1.22128204,\n",
       "        1.7002522 ],\n",
       "       ...,\n",
       "       [1.53737632, 1.15237477, 0.24233073, ..., 0.17557961, 1.97050371,\n",
       "        1.70081131],\n",
       "       [1.51687877, 1.30138182, 0.24162464, ..., 0.17557961, 1.97050371,\n",
       "        1.70081131],\n",
       "       [1.49638121, 0.53151208, 0.24125273, ..., 0.17557961, 1.97050371,\n",
       "        1.70081131]])"
      ]
     },
     "execution_count": 42,
     "metadata": {},
     "output_type": "execute_result"
    }
   ],
   "source": [
    "#removing outliers\n",
    "from scipy.stats import zscore \n",
    "z=np.abs(zscore(df))\n",
    "z"
   ]
  },
  {
   "cell_type": "code",
   "execution_count": 43,
   "metadata": {},
   "outputs": [
    {
     "name": "stdout",
     "output_type": "stream",
     "text": [
      "(array([  346,   359,   780, ..., 17304, 17402, 17428], dtype=int64), array([3, 3, 9, ..., 1, 1, 1], dtype=int64))\n"
     ]
    }
   ],
   "source": [
    "#Setting threshold values to remove outliers\n",
    "threshold=3\n",
    "print(np.where(z>3))"
   ]
  },
  {
   "cell_type": "code",
   "execution_count": 44,
   "metadata": {},
   "outputs": [
    {
     "data": {
      "text/html": [
       "<div>\n",
       "<style scoped>\n",
       "    .dataframe tbody tr th:only-of-type {\n",
       "        vertical-align: middle;\n",
       "    }\n",
       "\n",
       "    .dataframe tbody tr th {\n",
       "        vertical-align: top;\n",
       "    }\n",
       "\n",
       "    .dataframe thead th {\n",
       "        text-align: right;\n",
       "    }\n",
       "</style>\n",
       "<table border=\"1\" class=\"dataframe\">\n",
       "  <thead>\n",
       "    <tr style=\"text-align: right;\">\n",
       "      <th></th>\n",
       "      <th>Date</th>\n",
       "      <th>AveragePrice</th>\n",
       "      <th>Total Volume</th>\n",
       "      <th>4046</th>\n",
       "      <th>4225</th>\n",
       "      <th>4770</th>\n",
       "      <th>Total Bags</th>\n",
       "      <th>Small Bags</th>\n",
       "      <th>Large Bags</th>\n",
       "      <th>XLarge Bags</th>\n",
       "      <th>year</th>\n",
       "      <th>region</th>\n",
       "    </tr>\n",
       "  </thead>\n",
       "  <tbody>\n",
       "    <tr>\n",
       "      <th>0</th>\n",
       "      <td>51.0</td>\n",
       "      <td>1.33</td>\n",
       "      <td>64236.62</td>\n",
       "      <td>1036.74</td>\n",
       "      <td>54454.85</td>\n",
       "      <td>48.16</td>\n",
       "      <td>8696.87</td>\n",
       "      <td>8603.62</td>\n",
       "      <td>93.25</td>\n",
       "      <td>0.0</td>\n",
       "      <td>2015</td>\n",
       "      <td>0.0</td>\n",
       "    </tr>\n",
       "    <tr>\n",
       "      <th>1</th>\n",
       "      <td>50.0</td>\n",
       "      <td>1.35</td>\n",
       "      <td>54876.98</td>\n",
       "      <td>674.28</td>\n",
       "      <td>44638.81</td>\n",
       "      <td>58.33</td>\n",
       "      <td>9505.56</td>\n",
       "      <td>9408.07</td>\n",
       "      <td>97.49</td>\n",
       "      <td>0.0</td>\n",
       "      <td>2015</td>\n",
       "      <td>0.0</td>\n",
       "    </tr>\n",
       "    <tr>\n",
       "      <th>2</th>\n",
       "      <td>49.0</td>\n",
       "      <td>0.93</td>\n",
       "      <td>118220.22</td>\n",
       "      <td>794.70</td>\n",
       "      <td>109149.67</td>\n",
       "      <td>130.50</td>\n",
       "      <td>8145.35</td>\n",
       "      <td>8042.21</td>\n",
       "      <td>103.14</td>\n",
       "      <td>0.0</td>\n",
       "      <td>2015</td>\n",
       "      <td>0.0</td>\n",
       "    </tr>\n",
       "    <tr>\n",
       "      <th>3</th>\n",
       "      <td>48.0</td>\n",
       "      <td>1.08</td>\n",
       "      <td>78992.15</td>\n",
       "      <td>1132.00</td>\n",
       "      <td>71976.41</td>\n",
       "      <td>72.58</td>\n",
       "      <td>5811.16</td>\n",
       "      <td>5677.40</td>\n",
       "      <td>133.76</td>\n",
       "      <td>0.0</td>\n",
       "      <td>2015</td>\n",
       "      <td>0.0</td>\n",
       "    </tr>\n",
       "    <tr>\n",
       "      <th>4</th>\n",
       "      <td>47.0</td>\n",
       "      <td>1.28</td>\n",
       "      <td>51039.60</td>\n",
       "      <td>941.48</td>\n",
       "      <td>43838.39</td>\n",
       "      <td>75.78</td>\n",
       "      <td>6183.95</td>\n",
       "      <td>5986.26</td>\n",
       "      <td>197.69</td>\n",
       "      <td>0.0</td>\n",
       "      <td>2015</td>\n",
       "      <td>0.0</td>\n",
       "    </tr>\n",
       "    <tr>\n",
       "      <th>...</th>\n",
       "      <td>...</td>\n",
       "      <td>...</td>\n",
       "      <td>...</td>\n",
       "      <td>...</td>\n",
       "      <td>...</td>\n",
       "      <td>...</td>\n",
       "      <td>...</td>\n",
       "      <td>...</td>\n",
       "      <td>...</td>\n",
       "      <td>...</td>\n",
       "      <td>...</td>\n",
       "      <td>...</td>\n",
       "    </tr>\n",
       "    <tr>\n",
       "      <th>18244</th>\n",
       "      <td>161.0</td>\n",
       "      <td>1.63</td>\n",
       "      <td>17074.83</td>\n",
       "      <td>2046.96</td>\n",
       "      <td>1529.20</td>\n",
       "      <td>0.00</td>\n",
       "      <td>13498.67</td>\n",
       "      <td>13066.82</td>\n",
       "      <td>431.85</td>\n",
       "      <td>0.0</td>\n",
       "      <td>2018</td>\n",
       "      <td>53.0</td>\n",
       "    </tr>\n",
       "    <tr>\n",
       "      <th>18245</th>\n",
       "      <td>160.0</td>\n",
       "      <td>1.71</td>\n",
       "      <td>13888.04</td>\n",
       "      <td>1191.70</td>\n",
       "      <td>3431.50</td>\n",
       "      <td>0.00</td>\n",
       "      <td>9264.84</td>\n",
       "      <td>8940.04</td>\n",
       "      <td>324.80</td>\n",
       "      <td>0.0</td>\n",
       "      <td>2018</td>\n",
       "      <td>53.0</td>\n",
       "    </tr>\n",
       "    <tr>\n",
       "      <th>18246</th>\n",
       "      <td>159.0</td>\n",
       "      <td>1.87</td>\n",
       "      <td>13766.76</td>\n",
       "      <td>1191.92</td>\n",
       "      <td>2452.79</td>\n",
       "      <td>727.94</td>\n",
       "      <td>9394.11</td>\n",
       "      <td>9351.80</td>\n",
       "      <td>42.31</td>\n",
       "      <td>0.0</td>\n",
       "      <td>2018</td>\n",
       "      <td>53.0</td>\n",
       "    </tr>\n",
       "    <tr>\n",
       "      <th>18247</th>\n",
       "      <td>158.0</td>\n",
       "      <td>1.93</td>\n",
       "      <td>16205.22</td>\n",
       "      <td>1527.63</td>\n",
       "      <td>2981.04</td>\n",
       "      <td>727.01</td>\n",
       "      <td>10969.54</td>\n",
       "      <td>10919.54</td>\n",
       "      <td>50.00</td>\n",
       "      <td>0.0</td>\n",
       "      <td>2018</td>\n",
       "      <td>53.0</td>\n",
       "    </tr>\n",
       "    <tr>\n",
       "      <th>18248</th>\n",
       "      <td>157.0</td>\n",
       "      <td>1.62</td>\n",
       "      <td>17489.58</td>\n",
       "      <td>2894.77</td>\n",
       "      <td>2356.13</td>\n",
       "      <td>224.53</td>\n",
       "      <td>12014.15</td>\n",
       "      <td>11988.14</td>\n",
       "      <td>26.01</td>\n",
       "      <td>0.0</td>\n",
       "      <td>2018</td>\n",
       "      <td>53.0</td>\n",
       "    </tr>\n",
       "  </tbody>\n",
       "</table>\n",
       "<p>17651 rows × 12 columns</p>\n",
       "</div>"
      ],
      "text/plain": [
       "        Date  AveragePrice  Total Volume     4046       4225    4770  \\\n",
       "0       51.0          1.33      64236.62  1036.74   54454.85   48.16   \n",
       "1       50.0          1.35      54876.98   674.28   44638.81   58.33   \n",
       "2       49.0          0.93     118220.22   794.70  109149.67  130.50   \n",
       "3       48.0          1.08      78992.15  1132.00   71976.41   72.58   \n",
       "4       47.0          1.28      51039.60   941.48   43838.39   75.78   \n",
       "...      ...           ...           ...      ...        ...     ...   \n",
       "18244  161.0          1.63      17074.83  2046.96    1529.20    0.00   \n",
       "18245  160.0          1.71      13888.04  1191.70    3431.50    0.00   \n",
       "18246  159.0          1.87      13766.76  1191.92    2452.79  727.94   \n",
       "18247  158.0          1.93      16205.22  1527.63    2981.04  727.01   \n",
       "18248  157.0          1.62      17489.58  2894.77    2356.13  224.53   \n",
       "\n",
       "       Total Bags  Small Bags  Large Bags  XLarge Bags  year  region  \n",
       "0         8696.87     8603.62       93.25          0.0  2015     0.0  \n",
       "1         9505.56     9408.07       97.49          0.0  2015     0.0  \n",
       "2         8145.35     8042.21      103.14          0.0  2015     0.0  \n",
       "3         5811.16     5677.40      133.76          0.0  2015     0.0  \n",
       "4         6183.95     5986.26      197.69          0.0  2015     0.0  \n",
       "...           ...         ...         ...          ...   ...     ...  \n",
       "18244    13498.67    13066.82      431.85          0.0  2018    53.0  \n",
       "18245     9264.84     8940.04      324.80          0.0  2018    53.0  \n",
       "18246     9394.11     9351.80       42.31          0.0  2018    53.0  \n",
       "18247    10969.54    10919.54       50.00          0.0  2018    53.0  \n",
       "18248    12014.15    11988.14       26.01          0.0  2018    53.0  \n",
       "\n",
       "[17651 rows x 12 columns]"
      ]
     },
     "execution_count": 44,
     "metadata": {},
     "output_type": "execute_result"
    }
   ],
   "source": [
    "#Removing all values more than 3(threshold value)\n",
    "df_new=df[(z<3).all(axis=1)]\n",
    "df_new"
   ]
  },
  {
   "cell_type": "code",
   "execution_count": 45,
   "metadata": {},
   "outputs": [
    {
     "data": {
      "text/plain": [
       "(18249, 12)"
      ]
     },
     "execution_count": 45,
     "metadata": {},
     "output_type": "execute_result"
    }
   ],
   "source": [
    "#checking shape of original data\n",
    "df.shape"
   ]
  },
  {
   "cell_type": "code",
   "execution_count": 46,
   "metadata": {},
   "outputs": [
    {
     "data": {
      "text/plain": [
       "(17651, 12)"
      ]
     },
     "execution_count": 46,
     "metadata": {},
     "output_type": "execute_result"
    }
   ],
   "source": [
    "#Checking shape of new data\n",
    "df_new.shape"
   ]
  },
  {
   "cell_type": "markdown",
   "metadata": {},
   "source": [
    "# Calculating Data Loss"
   ]
  },
  {
   "cell_type": "code",
   "execution_count": 47,
   "metadata": {},
   "outputs": [],
   "source": [
    "#Using formula to calculate data loss\n",
    "data_loss=((1517-1439)/1517)*100"
   ]
  },
  {
   "cell_type": "code",
   "execution_count": 48,
   "metadata": {},
   "outputs": [
    {
     "data": {
      "text/plain": [
       "5.1417270929466055"
      ]
     },
     "execution_count": 48,
     "metadata": {},
     "output_type": "execute_result"
    }
   ],
   "source": [
    "data_loss"
   ]
  },
  {
   "cell_type": "markdown",
   "metadata": {},
   "source": [
    "The lost data is around 5.14. Now we can use our new data efficiently for better performance."
   ]
  },
  {
   "cell_type": "markdown",
   "metadata": {},
   "source": [
    "# Separating the column into x & y"
   ]
  },
  {
   "cell_type": "code",
   "execution_count": 49,
   "metadata": {},
   "outputs": [],
   "source": [
    "#Creating x & y columns \n",
    "x=df_new.drop('AveragePrice',axis=1)\n",
    "y=df_new['AveragePrice']"
   ]
  },
  {
   "cell_type": "markdown",
   "metadata": {},
   "source": [
    "The data is now divided into input features and Target Variable"
   ]
  },
  {
   "cell_type": "markdown",
   "metadata": {},
   "source": [
    "# Transforming data to reduce Skewness"
   ]
  },
  {
   "cell_type": "code",
   "execution_count": 50,
   "metadata": {},
   "outputs": [],
   "source": [
    "#Using power transform to remove skewness\n",
    "from sklearn.preprocessing import power_transform\n",
    "import warnings\n",
    "warnings.filterwarnings('ignore')\n",
    "x=power_transform(x,method='yeo-johnson')"
   ]
  },
  {
   "cell_type": "code",
   "execution_count": 51,
   "metadata": {},
   "outputs": [
    {
     "data": {
      "text/plain": [
       "array([[-0.56745717, -0.07532391, -0.65742071, ..., -0.67791909,\n",
       "        -1.2106467 , -2.01058988],\n",
       "       [-0.58972681, -0.14749743, -0.77717852, ..., -0.67791909,\n",
       "        -1.2106467 , -2.01058988],\n",
       "       [-0.61212554,  0.20555557, -0.7317763 , ..., -0.67791909,\n",
       "        -1.2106467 , -2.01058988],\n",
       "       ...,\n",
       "       [ 1.41245946, -0.77527398, -0.61796649, ..., -0.67791909,\n",
       "         1.97870686,  1.57828237],\n",
       "       [ 1.39650072, -0.70179733, -0.54701087, ..., -0.67791909,\n",
       "         1.97870686,  1.57828237],\n",
       "       [ 1.38051236, -0.66738095, -0.35967077, ..., -0.67791909,\n",
       "         1.97870686,  1.57828237]])"
      ]
     },
     "execution_count": 51,
     "metadata": {},
     "output_type": "execute_result"
    }
   ],
   "source": [
    "x"
   ]
  },
  {
   "cell_type": "markdown",
   "metadata": {},
   "source": [
    "The above arrays have been transformed and the skewness has been reduced."
   ]
  },
  {
   "cell_type": "markdown",
   "metadata": {},
   "source": [
    "# Scaling Data using Standard Scaler"
   ]
  },
  {
   "cell_type": "code",
   "execution_count": 52,
   "metadata": {},
   "outputs": [],
   "source": [
    "#importing library for scaling\n",
    "from sklearn.preprocessing import StandardScaler"
   ]
  },
  {
   "cell_type": "code",
   "execution_count": 53,
   "metadata": {},
   "outputs": [
    {
     "data": {
      "text/plain": [
       "array([[-0.56745717, -0.07532391, -0.65742071, ..., -0.67791909,\n",
       "        -1.21061818, -2.01058988],\n",
       "       [-0.58972681, -0.14749743, -0.77717852, ..., -0.67791909,\n",
       "        -1.21061818, -2.01058988],\n",
       "       [-0.61212554,  0.20555557, -0.7317763 , ..., -0.67791909,\n",
       "        -1.21061818, -2.01058988],\n",
       "       ...,\n",
       "       [ 1.41245946, -0.77527398, -0.61796649, ..., -0.67791909,\n",
       "         1.97873539,  1.57828237],\n",
       "       [ 1.39650072, -0.70179733, -0.54701087, ..., -0.67791909,\n",
       "         1.97873539,  1.57828237],\n",
       "       [ 1.38051236, -0.66738095, -0.35967077, ..., -0.67791909,\n",
       "         1.97873539,  1.57828237]])"
      ]
     },
     "execution_count": 53,
     "metadata": {},
     "output_type": "execute_result"
    }
   ],
   "source": [
    "#Scaling our data to improve model performance\n",
    "sc=StandardScaler()\n",
    "x=sc.fit_transform(x)\n",
    "x"
   ]
  },
  {
   "cell_type": "markdown",
   "metadata": {},
   "source": [
    "We have now scaled our x data"
   ]
  },
  {
   "cell_type": "markdown",
   "metadata": {},
   "source": [
    "# Model Building"
   ]
  },
  {
   "cell_type": "code",
   "execution_count": 54,
   "metadata": {},
   "outputs": [],
   "source": [
    "#Importing libraries required for model building\n",
    "from sklearn.linear_model import LinearRegression\n",
    "from sklearn.metrics import r2_score\n",
    "from sklearn.metrics import mean_squared_error,mean_absolute_error\n",
    "from sklearn.model_selection import train_test_split\n",
    "import warnings\n",
    "warnings.filterwarnings('ignore')"
   ]
  },
  {
   "cell_type": "markdown",
   "metadata": {},
   "source": [
    "Since the output has continuous type of values, we use Linear Regression."
   ]
  },
  {
   "cell_type": "code",
   "execution_count": 55,
   "metadata": {},
   "outputs": [
    {
     "name": "stdout",
     "output_type": "stream",
     "text": [
      "At random state 0, the training accuracy is: 0.49075484455586094\n",
      "At random state 0, the testing accuracy is: 0.4882737733215984\n",
      "\n",
      "\n",
      "At random state 1, the training accuracy is: 0.4897499880546786\n",
      "At random state 1, the testing accuracy is: 0.49231084344656606\n",
      "\n",
      "\n",
      "At random state 2, the training accuracy is: 0.49539618627671234\n",
      "At random state 2, the testing accuracy is: 0.4695947663002106\n",
      "\n",
      "\n",
      "At random state 3, the training accuracy is: 0.48764782168382825\n",
      "At random state 3, the testing accuracy is: 0.5009275160175938\n",
      "\n",
      "\n",
      "At random state 4, the training accuracy is: 0.488115588481962\n",
      "At random state 4, the testing accuracy is: 0.49927156558273\n",
      "\n",
      "\n",
      "At random state 5, the training accuracy is: 0.48629600640031156\n",
      "At random state 5, the testing accuracy is: 0.5053689128978569\n",
      "\n",
      "\n",
      "At random state 6, the training accuracy is: 0.4870244341511859\n",
      "At random state 6, the testing accuracy is: 0.5029263956741161\n",
      "\n",
      "\n",
      "At random state 7, the training accuracy is: 0.48890180243517956\n",
      "At random state 7, the testing accuracy is: 0.4953941929641449\n",
      "\n",
      "\n",
      "At random state 8, the training accuracy is: 0.48916757222218465\n",
      "At random state 8, the testing accuracy is: 0.49400708542176763\n",
      "\n",
      "\n",
      "At random state 9, the training accuracy is: 0.48816049233545233\n",
      "At random state 9, the testing accuracy is: 0.4983945438827413\n",
      "\n",
      "\n",
      "At random state 10, the training accuracy is: 0.4930220456075737\n",
      "At random state 10, the testing accuracy is: 0.4786934456144918\n",
      "\n",
      "\n",
      "At random state 11, the training accuracy is: 0.490381763438143\n",
      "At random state 11, the testing accuracy is: 0.48995235071311327\n",
      "\n",
      "\n",
      "At random state 12, the training accuracy is: 0.4919179566290357\n",
      "At random state 12, the testing accuracy is: 0.4834514879297711\n",
      "\n",
      "\n",
      "At random state 13, the training accuracy is: 0.49196865823524927\n",
      "At random state 13, the testing accuracy is: 0.48351858070693743\n",
      "\n",
      "\n",
      "At random state 14, the training accuracy is: 0.4901358558793868\n",
      "At random state 14, the testing accuracy is: 0.4906462812902218\n",
      "\n",
      "\n",
      "At random state 15, the training accuracy is: 0.49093698054791546\n",
      "At random state 15, the testing accuracy is: 0.4873902908423705\n",
      "\n",
      "\n",
      "At random state 16, the training accuracy is: 0.49340443226438824\n",
      "At random state 16, the testing accuracy is: 0.4773835243596951\n",
      "\n",
      "\n",
      "At random state 17, the training accuracy is: 0.4920368447958984\n",
      "At random state 17, the testing accuracy is: 0.48249618808739536\n",
      "\n",
      "\n",
      "At random state 18, the training accuracy is: 0.490644970697816\n",
      "At random state 18, the testing accuracy is: 0.4886445025516756\n",
      "\n",
      "\n",
      "At random state 19, the training accuracy is: 0.48706817045447015\n",
      "At random state 19, the testing accuracy is: 0.5033380955203592\n",
      "\n",
      "\n",
      "At random state 20, the training accuracy is: 0.48957486098935654\n",
      "At random state 20, the testing accuracy is: 0.49312948005163737\n",
      "\n",
      "\n",
      "At random state 21, the training accuracy is: 0.4901577531361787\n",
      "At random state 21, the testing accuracy is: 0.4905550926293857\n",
      "\n",
      "\n",
      "At random state 22, the training accuracy is: 0.49315528420227306\n",
      "At random state 22, the testing accuracy is: 0.47833463326467063\n",
      "\n",
      "\n",
      "At random state 23, the training accuracy is: 0.4929951092311463\n",
      "At random state 23, the testing accuracy is: 0.47886964365500706\n",
      "\n",
      "\n",
      "At random state 24, the training accuracy is: 0.4898097281317656\n",
      "At random state 24, the testing accuracy is: 0.49236206196788246\n",
      "\n",
      "\n",
      "At random state 25, the training accuracy is: 0.49183130176311896\n",
      "At random state 25, the testing accuracy is: 0.4834685766347562\n",
      "\n",
      "\n",
      "At random state 26, the training accuracy is: 0.49209394952533314\n",
      "At random state 26, the testing accuracy is: 0.4833710005856653\n",
      "\n",
      "\n",
      "At random state 27, the training accuracy is: 0.4898185143164815\n",
      "At random state 27, the testing accuracy is: 0.4920338987067272\n",
      "\n",
      "\n",
      "At random state 28, the training accuracy is: 0.48767135517144167\n",
      "At random state 28, the testing accuracy is: 0.5009485209337343\n",
      "\n",
      "\n",
      "At random state 29, the training accuracy is: 0.48901510469878295\n",
      "At random state 29, the testing accuracy is: 0.49495271818703546\n",
      "\n",
      "\n",
      "At random state 30, the training accuracy is: 0.49304645514419476\n",
      "At random state 30, the testing accuracy is: 0.47874279336715464\n",
      "\n",
      "\n",
      "At random state 31, the training accuracy is: 0.48653435198158645\n",
      "At random state 31, the testing accuracy is: 0.5049572574196524\n",
      "\n",
      "\n",
      "At random state 32, the training accuracy is: 0.49062411480373913\n",
      "At random state 32, the testing accuracy is: 0.4890353582236575\n",
      "\n",
      "\n",
      "At random state 33, the training accuracy is: 0.48892447413024165\n",
      "At random state 33, the testing accuracy is: 0.49553377392459597\n",
      "\n",
      "\n",
      "At random state 34, the training accuracy is: 0.49203752235033105\n",
      "At random state 34, the testing accuracy is: 0.48271050707890495\n",
      "\n",
      "\n",
      "At random state 35, the training accuracy is: 0.4896817227089434\n",
      "At random state 35, the testing accuracy is: 0.4924500529394268\n",
      "\n",
      "\n",
      "At random state 36, the training accuracy is: 0.4933407029321196\n",
      "At random state 36, the testing accuracy is: 0.47711761603995173\n",
      "\n",
      "\n",
      "At random state 37, the training accuracy is: 0.48893054982997586\n",
      "At random state 37, the testing accuracy is: 0.4957025845170482\n",
      "\n",
      "\n",
      "At random state 38, the training accuracy is: 0.49028738831283836\n",
      "At random state 38, the testing accuracy is: 0.4900531183198441\n",
      "\n",
      "\n",
      "At random state 39, the training accuracy is: 0.4901935413837012\n",
      "At random state 39, the testing accuracy is: 0.49048855029653915\n",
      "\n",
      "\n",
      "At random state 40, the training accuracy is: 0.4908550246275857\n",
      "At random state 40, the testing accuracy is: 0.4880789209657772\n",
      "\n",
      "\n",
      "At random state 41, the training accuracy is: 0.4887749519030059\n",
      "At random state 41, the testing accuracy is: 0.4961202962814103\n",
      "\n",
      "\n",
      "At random state 42, the training accuracy is: 0.48834559532616717\n",
      "At random state 42, the testing accuracy is: 0.4977153808219337\n",
      "\n",
      "\n",
      "At random state 43, the training accuracy is: 0.48697774843544306\n",
      "At random state 43, the testing accuracy is: 0.5033672956405015\n",
      "\n",
      "\n",
      "At random state 44, the training accuracy is: 0.494133565890819\n",
      "At random state 44, the testing accuracy is: 0.4745141191445422\n",
      "\n",
      "\n",
      "At random state 45, the training accuracy is: 0.4893688864396827\n",
      "At random state 45, the testing accuracy is: 0.4933477444724481\n",
      "\n",
      "\n",
      "At random state 46, the training accuracy is: 0.48787828152023827\n",
      "At random state 46, the testing accuracy is: 0.4996336276646095\n",
      "\n",
      "\n",
      "At random state 47, the training accuracy is: 0.4909138725732296\n",
      "At random state 47, the testing accuracy is: 0.4876502197306961\n",
      "\n",
      "\n",
      "At random state 48, the training accuracy is: 0.4894194269706422\n",
      "At random state 48, the testing accuracy is: 0.49358190356155984\n",
      "\n",
      "\n",
      "At random state 49, the training accuracy is: 0.48765840141738037\n",
      "At random state 49, the testing accuracy is: 0.5001970351755114\n",
      "\n",
      "\n",
      "At random state 50, the training accuracy is: 0.4929120939682593\n",
      "At random state 50, the testing accuracy is: 0.47947940941289247\n",
      "\n",
      "\n",
      "At random state 51, the training accuracy is: 0.48864069425568535\n",
      "At random state 51, the testing accuracy is: 0.4967534519787221\n",
      "\n",
      "\n",
      "At random state 52, the training accuracy is: 0.4891314036460017\n",
      "At random state 52, the testing accuracy is: 0.4944389202029873\n",
      "\n",
      "\n",
      "At random state 53, the training accuracy is: 0.489698888781806\n",
      "At random state 53, the testing accuracy is: 0.49266423997760056\n",
      "\n",
      "\n",
      "At random state 54, the training accuracy is: 0.49643832833038015\n",
      "At random state 54, the testing accuracy is: 0.4653688587940209\n",
      "\n",
      "\n",
      "At random state 55, the training accuracy is: 0.48840946230654425\n",
      "At random state 55, the testing accuracy is: 0.49644718457224457\n",
      "\n",
      "\n",
      "At random state 56, the training accuracy is: 0.4906483914890112\n",
      "At random state 56, the testing accuracy is: 0.48819722874208327\n",
      "\n",
      "\n",
      "At random state 57, the training accuracy is: 0.4882401255512462\n",
      "At random state 57, the testing accuracy is: 0.49807982490124036\n",
      "\n",
      "\n",
      "At random state 58, the training accuracy is: 0.4899841560023921\n",
      "At random state 58, the testing accuracy is: 0.49120026196320365\n",
      "\n",
      "\n",
      "At random state 59, the training accuracy is: 0.4934766734217809\n",
      "At random state 59, the testing accuracy is: 0.4769299420109244\n",
      "\n",
      "\n",
      "At random state 60, the training accuracy is: 0.48521145525350107\n",
      "At random state 60, the testing accuracy is: 0.5095687537762711\n",
      "\n",
      "\n",
      "At random state 61, the training accuracy is: 0.49794473463199096\n",
      "At random state 61, the testing accuracy is: 0.45920224256130293\n",
      "\n",
      "\n",
      "At random state 62, the training accuracy is: 0.4925234727355636\n",
      "At random state 62, the testing accuracy is: 0.4807593151615289\n",
      "\n",
      "\n",
      "At random state 63, the training accuracy is: 0.4882762718033906\n",
      "At random state 63, the testing accuracy is: 0.4978498619243331\n",
      "\n",
      "\n",
      "At random state 64, the training accuracy is: 0.4902422690502697\n",
      "At random state 64, the testing accuracy is: 0.4904363388423457\n",
      "\n",
      "\n",
      "At random state 65, the training accuracy is: 0.48994624751255667\n",
      "At random state 65, the testing accuracy is: 0.4916250216837007\n",
      "\n",
      "\n",
      "At random state 66, the training accuracy is: 0.49296550953610485\n",
      "At random state 66, the testing accuracy is: 0.4783855049168252\n",
      "\n",
      "\n",
      "At random state 67, the training accuracy is: 0.48956269612479575\n",
      "At random state 67, the testing accuracy is: 0.4930635679963755\n",
      "\n",
      "\n",
      "At random state 68, the training accuracy is: 0.48924939661138556\n",
      "At random state 68, the testing accuracy is: 0.49404570192307484\n",
      "\n",
      "\n",
      "At random state 69, the training accuracy is: 0.4870255847681183\n",
      "At random state 69, the testing accuracy is: 0.5026880397779769\n",
      "\n",
      "\n",
      "At random state 70, the training accuracy is: 0.49045513658187445\n",
      "At random state 70, the testing accuracy is: 0.4890917314704688\n",
      "\n",
      "\n",
      "At random state 71, the training accuracy is: 0.4888011353772389\n",
      "At random state 71, the testing accuracy is: 0.4960243519966435\n",
      "\n",
      "\n",
      "At random state 72, the training accuracy is: 0.49013188318593504\n",
      "At random state 72, the testing accuracy is: 0.4902960422683412\n",
      "\n",
      "\n",
      "At random state 73, the training accuracy is: 0.4902639237475658\n",
      "At random state 73, the testing accuracy is: 0.4903574134218722\n",
      "\n",
      "\n",
      "At random state 74, the training accuracy is: 0.48944802122208686\n",
      "At random state 74, the testing accuracy is: 0.49356043301479147\n",
      "\n",
      "\n",
      "At random state 75, the training accuracy is: 0.4907266856061988\n",
      "At random state 75, the testing accuracy is: 0.48863415520984\n",
      "\n",
      "\n",
      "At random state 76, the training accuracy is: 0.48858423864321765\n",
      "At random state 76, the testing accuracy is: 0.49725580198666386\n",
      "\n",
      "\n",
      "At random state 77, the training accuracy is: 0.49002566259677016\n",
      "At random state 77, the testing accuracy is: 0.4912019971688484\n",
      "\n",
      "\n",
      "At random state 78, the training accuracy is: 0.49000078478530884\n",
      "At random state 78, the testing accuracy is: 0.4914463295698258\n",
      "\n",
      "\n",
      "At random state 79, the training accuracy is: 0.48656743534552793\n",
      "At random state 79, the testing accuracy is: 0.5054042430119418\n",
      "\n",
      "\n",
      "At random state 80, the training accuracy is: 0.4919080903586549\n",
      "At random state 80, the testing accuracy is: 0.483415495719827\n",
      "\n",
      "\n",
      "At random state 81, the training accuracy is: 0.4903007360908491\n",
      "At random state 81, the testing accuracy is: 0.49019154609973925\n",
      "\n",
      "\n",
      "At random state 82, the training accuracy is: 0.48709856616328095\n",
      "At random state 82, the testing accuracy is: 0.5029001247226043\n",
      "\n",
      "\n",
      "At random state 83, the training accuracy is: 0.49359088756781966\n",
      "At random state 83, the testing accuracy is: 0.4767242835487375\n",
      "\n",
      "\n",
      "At random state 84, the training accuracy is: 0.4918562414632113\n",
      "At random state 84, the testing accuracy is: 0.48352374520117614\n",
      "\n",
      "\n",
      "At random state 85, the training accuracy is: 0.48563243594105543\n",
      "At random state 85, the testing accuracy is: 0.5066787710441677\n",
      "\n",
      "\n",
      "At random state 86, the training accuracy is: 0.4895605463350686\n",
      "At random state 86, the testing accuracy is: 0.49313920532580424\n",
      "\n",
      "\n",
      "At random state 87, the training accuracy is: 0.49169164599746973\n",
      "At random state 87, the testing accuracy is: 0.48467315404208333\n",
      "\n",
      "\n",
      "At random state 88, the training accuracy is: 0.49206436357217287\n",
      "At random state 88, the testing accuracy is: 0.48299744292618685\n",
      "\n",
      "\n",
      "At random state 89, the training accuracy is: 0.4891891981996157\n",
      "At random state 89, the testing accuracy is: 0.49482254216232624\n",
      "\n",
      "\n",
      "At random state 90, the training accuracy is: 0.4959620067933207\n",
      "At random state 90, the testing accuracy is: 0.4670011229334864\n",
      "\n",
      "\n",
      "At random state 91, the training accuracy is: 0.49180588847577666\n",
      "At random state 91, the testing accuracy is: 0.48387484304714756\n",
      "\n",
      "\n",
      "At random state 92, the training accuracy is: 0.4929665788177483\n",
      "At random state 92, the testing accuracy is: 0.4789771734464433\n",
      "\n",
      "\n",
      "At random state 93, the training accuracy is: 0.49343595085107017\n",
      "At random state 93, the testing accuracy is: 0.4777629771910934\n",
      "\n",
      "\n",
      "At random state 94, the training accuracy is: 0.4912257275121178\n",
      "At random state 94, the testing accuracy is: 0.4864144537572924\n",
      "\n",
      "\n",
      "At random state 95, the training accuracy is: 0.49005404522670826\n",
      "At random state 95, the testing accuracy is: 0.49119159769048604\n",
      "\n",
      "\n",
      "At random state 96, the training accuracy is: 0.4900239218191156\n",
      "At random state 96, the testing accuracy is: 0.4914157877806635\n",
      "\n",
      "\n",
      "At random state 97, the training accuracy is: 0.4905245719259015\n",
      "At random state 97, the testing accuracy is: 0.48914314811599324\n",
      "\n",
      "\n",
      "At random state 98, the training accuracy is: 0.4940002684862438\n",
      "At random state 98, the testing accuracy is: 0.4750357114965068\n",
      "\n",
      "\n",
      "At random state 99, the training accuracy is: 0.49083794642383705\n",
      "At random state 99, the testing accuracy is: 0.4875086370852414\n",
      "\n",
      "\n"
     ]
    }
   ],
   "source": [
    "#Finding random state that gives us best accuracy\n",
    "lr=LinearRegression()\n",
    "for i in range(0,100):\n",
    "    x_train,x_test,y_train,y_test=train_test_split(x,y,test_size=0.2,random_state=i)\n",
    "    lr.fit(x_train,y_train)\n",
    "    pred_train=lr.predict(x_train)\n",
    "    pred_test=lr.predict(x_test)\n",
    "    print(f'At random state {i}, the training accuracy is: {r2_score(y_train,pred_train)}')\n",
    "    print(f'At random state {i}, the testing accuracy is: {r2_score(y_test,pred_test)}')\n",
    "    print(\"\\n\")"
   ]
  },
  {
   "cell_type": "markdown",
   "metadata": {},
   "source": [
    "At random state 75, the testing accuracy is best at 43.33% "
   ]
  },
  {
   "cell_type": "markdown",
   "metadata": {},
   "source": [
    "# Splitting DataFrame into x & y"
   ]
  },
  {
   "cell_type": "code",
   "execution_count": 56,
   "metadata": {},
   "outputs": [],
   "source": [
    "x_train,x_test,y_train,y_test=train_test_split(x,y,test_size=.20,random_state=75)"
   ]
  },
  {
   "cell_type": "markdown",
   "metadata": {},
   "source": [
    "Splitting our model into x & y with train data(x) 80% and test data(y) 20% at random state 75"
   ]
  },
  {
   "cell_type": "markdown",
   "metadata": {},
   "source": [
    "# Using Linear Regression for Model Building"
   ]
  },
  {
   "cell_type": "code",
   "execution_count": 57,
   "metadata": {},
   "outputs": [
    {
     "name": "stdout",
     "output_type": "stream",
     "text": [
      "Predicted W:  [1.33320507 1.01720596 1.43011815 ... 1.42768076 1.66081044 1.21276911]\n",
      "actual W:  9742     1.38\n",
      "3406     0.85\n",
      "16279    1.67\n",
      "12196    1.88\n",
      "8027     0.92\n",
      "         ... \n",
      "11080    1.60\n",
      "16725    1.95\n",
      "9720     1.14\n",
      "13389    2.17\n",
      "6583     1.29\n",
      "Name: AveragePrice, Length: 3531, dtype: float64\n"
     ]
    }
   ],
   "source": [
    "#Performing Linear Regression\n",
    "lm=LinearRegression()\n",
    "lm.fit(x_train,y_train)\n",
    "pred=lm.predict(x_test)\n",
    "print(\"Predicted W: \",pred)\n",
    "print('actual W: ',y_test)"
   ]
  },
  {
   "cell_type": "markdown",
   "metadata": {},
   "source": [
    "We can see there is a difference between the Predicted and the actual values. So, we will find the error rate of our model."
   ]
  },
  {
   "cell_type": "code",
   "execution_count": 58,
   "metadata": {},
   "outputs": [
    {
     "data": {
      "text/plain": [
       "array([ 0.16697162, -0.45970076,  0.02846477,  0.29355344, -0.02750723,\n",
       "       -0.20773805,  0.21261294, -0.02869449, -0.03799525, -0.07013194,\n",
       "        0.0219655 ])"
      ]
     },
     "execution_count": 58,
     "metadata": {},
     "output_type": "execute_result"
    }
   ],
   "source": [
    "#Finding coefficient\n",
    "lm.coef_"
   ]
  },
  {
   "cell_type": "code",
   "execution_count": 59,
   "metadata": {},
   "outputs": [
    {
     "data": {
      "text/plain": [
       "1.4070868887078336"
      ]
     },
     "execution_count": 59,
     "metadata": {},
     "output_type": "execute_result"
    }
   ],
   "source": [
    "#Finding intercept\n",
    "lm.intercept_"
   ]
  },
  {
   "cell_type": "code",
   "execution_count": 60,
   "metadata": {},
   "outputs": [
    {
     "data": {
      "text/plain": [
       "0.4907266856061988"
      ]
     },
     "execution_count": 60,
     "metadata": {},
     "output_type": "execute_result"
    }
   ],
   "source": [
    "#training score\n",
    "lm.score(x_train,y_train)"
   ]
  },
  {
   "cell_type": "markdown",
   "metadata": {},
   "source": [
    "Our training accuracy is 28.74%"
   ]
  },
  {
   "cell_type": "code",
   "execution_count": 61,
   "metadata": {},
   "outputs": [
    {
     "name": "stdout",
     "output_type": "stream",
     "text": [
      "error:\n",
      "Mean absolute error: 0.21948112357339183\n",
      "Mean squared error: 0.07649307696070466\n",
      "Root Mean squared error: 0.2765738182849285\n"
     ]
    }
   ],
   "source": [
    "#finding errors in our Model\n",
    "print('error:')\n",
    "print('Mean absolute error:',mean_absolute_error(y_test,pred))\n",
    "print('Mean squared error:',mean_squared_error(y_test,pred))\n",
    "\n",
    "print('Root Mean squared error:',np.sqrt(mean_squared_error(y_test,pred)))"
   ]
  },
  {
   "cell_type": "markdown",
   "metadata": {},
   "source": [
    "We can observe quite a few errors in our model. In order to reduce the errors and increase efficiency and performance of the model, we will hypertune our model."
   ]
  },
  {
   "cell_type": "code",
   "execution_count": 62,
   "metadata": {},
   "outputs": [
    {
     "name": "stdout",
     "output_type": "stream",
     "text": [
      "0.48863415520984\n"
     ]
    }
   ],
   "source": [
    "#Testing accuracy of the model\n",
    "print(r2_score(y_test,pred))"
   ]
  },
  {
   "cell_type": "markdown",
   "metadata": {},
   "source": [
    "Testing accuracy of the model is 43.33%. To increase accuracy, let's hypertune the model."
   ]
  },
  {
   "cell_type": "code",
   "execution_count": 63,
   "metadata": {},
   "outputs": [],
   "source": [
    "#importing library for cross Validation\n",
    "from sklearn.model_selection import cross_val_score"
   ]
  },
  {
   "cell_type": "code",
   "execution_count": 64,
   "metadata": {},
   "outputs": [
    {
     "name": "stdout",
     "output_type": "stream",
     "text": [
      "At cross fold 2 the cv score is -2.9580103154814754 and accuracy score for training is -0.5332665541808377 and accuracy for the testing is -0.5003984178915613\n",
      "\n",
      "\n",
      "At cross fold 3 the cv score is -0.2831261329573422 and accuracy score for training is -0.5332665541808377 and accuracy for the testing is -0.5003984178915613\n",
      "\n",
      "\n",
      "At cross fold 4 the cv score is -0.1326158870435739 and accuracy score for training is -0.5332665541808377 and accuracy for the testing is -0.5003984178915613\n",
      "\n",
      "\n",
      "At cross fold 5 the cv score is -0.016733800822363885 and accuracy score for training is -0.5332665541808377 and accuracy for the testing is -0.5003984178915613\n",
      "\n",
      "\n",
      "At cross fold 6 the cv score is -0.09861516486036219 and accuracy score for training is -0.5332665541808377 and accuracy for the testing is -0.5003984178915613\n",
      "\n",
      "\n",
      "At cross fold 7 the cv score is -0.03249371042113315 and accuracy score for training is -0.5332665541808377 and accuracy for the testing is -0.5003984178915613\n",
      "\n",
      "\n",
      "At cross fold 8 the cv score is -0.022956084840772495 and accuracy score for training is -0.5332665541808377 and accuracy for the testing is -0.5003984178915613\n",
      "\n",
      "\n",
      "At cross fold 9 the cv score is -0.0060900257055425 and accuracy score for training is -0.5332665541808377 and accuracy for the testing is -0.5003984178915613\n",
      "\n",
      "\n"
     ]
    }
   ],
   "source": [
    "train_accuracy=r2_score(y_train,pred_train)\n",
    "test_accuracy=r2_score(y_test,pred_test)\n",
    "\n",
    "from sklearn.model_selection import cross_val_score\n",
    "for j in range(2,10):\n",
    "    cv_score=cross_val_score(lr,x,y,cv=j)\n",
    "    cv_mean=cv_score.mean()\n",
    "    print(f\"At cross fold {j} the cv score is {cv_mean} and accuracy score for training is {train_accuracy} and accuracy for the testing is {test_accuracy}\")\n",
    "    print(\"\\n\")"
   ]
  },
  {
   "cell_type": "markdown",
   "metadata": {},
   "source": [
    "Since we get maximum accuracy at cv 3 i.e. 19.06%. So cv=3 is selected."
   ]
  },
  {
   "cell_type": "markdown",
   "metadata": {},
   "source": [
    "# Regularization"
   ]
  },
  {
   "cell_type": "code",
   "execution_count": 65,
   "metadata": {},
   "outputs": [],
   "source": [
    "#Importing libraries for Regularization\n",
    "\n",
    "from sklearn.model_selection import GridSearchCV\n",
    "from sklearn.model_selection import cross_val_score\n",
    "import warnings\n",
    "warnings.filterwarnings('ignore')"
   ]
  },
  {
   "cell_type": "code",
   "execution_count": 66,
   "metadata": {},
   "outputs": [
    {
     "name": "stdout",
     "output_type": "stream",
     "text": [
      "{'alpha': 0.0001, 'random_state': 0}\n"
     ]
    }
   ],
   "source": [
    "#Finding best Parameters for Lasso Regression\n",
    "\n",
    "from sklearn.linear_model import Lasso\n",
    "\n",
    "parameters={'alpha':[.0001,.001,.01,.1,1,10],'random_state':list(range(0,10))}\n",
    "ls=Lasso()\n",
    "clf=GridSearchCV(ls,parameters)\n",
    "clf.fit(x_train,y_train)\n",
    "\n",
    "print(clf.best_params_)"
   ]
  },
  {
   "cell_type": "code",
   "execution_count": 67,
   "metadata": {},
   "outputs": [
    {
     "data": {
      "text/plain": [
       "0.4871808919031074"
      ]
     },
     "execution_count": 67,
     "metadata": {},
     "output_type": "execute_result"
    }
   ],
   "source": [
    "#Performing Lasso Regression\n",
    "\n",
    "ls=Lasso(alpha=0.001,random_state=0)\n",
    "ls.fit(x_train,y_train)\n",
    "ls.score(x_train,y_train)\n",
    "pred_ls=ls.predict(x_test)\n",
    "\n",
    "lss=r2_score(y_test,pred_ls)\n",
    "lss"
   ]
  },
  {
   "cell_type": "markdown",
   "metadata": {},
   "source": [
    "The r2 score of Lasso Regression is 43%"
   ]
  },
  {
   "cell_type": "code",
   "execution_count": 68,
   "metadata": {},
   "outputs": [
    {
     "data": {
      "text/plain": [
       "-0.28831066284459356"
      ]
     },
     "execution_count": 68,
     "metadata": {},
     "output_type": "execute_result"
    }
   ],
   "source": [
    "cv_score=cross_val_score(ls,x,y,cv=3)\n",
    "cv_mean=cv_score.mean()\n",
    "cv_mean"
   ]
  },
  {
   "cell_type": "markdown",
   "metadata": {},
   "source": [
    "The cv score is 19.90%"
   ]
  },
  {
   "cell_type": "markdown",
   "metadata": {},
   "source": [
    "# Ensemble Technique"
   ]
  },
  {
   "cell_type": "code",
   "execution_count": null,
   "metadata": {},
   "outputs": [],
   "source": [
    "#Importing libraries and finding best parameters\n",
    "\n",
    "from sklearn.model_selection import GridSearchCV\n",
    "from sklearn.ensemble import RandomForestRegressor\n",
    "parameters={'criterion':['mse','mae'],'max_features':['auto','sqrt','log2']}\n",
    "rf=RandomForestRegressor()\n",
    "clf=GridSearchCV(rf,parameters)\n",
    "clf.fit(x_train,y_train)\n",
    "\n",
    "print(clf.best_params_)"
   ]
  },
  {
   "cell_type": "code",
   "execution_count": 71,
   "metadata": {},
   "outputs": [
    {
     "name": "stdout",
     "output_type": "stream",
     "text": [
      "R2 score:  89.37795830823676\n",
      "Cross Val Score:  11.568432262261512\n"
     ]
    }
   ],
   "source": [
    "#Performing RandomForestRegressor\n",
    "\n",
    "rf=RandomForestRegressor(criterion='mse',max_features='log2')\n",
    "rf.fit(x_train,y_train)\n",
    "rf.score(x_train,y_train)\n",
    "pred_decision=rf.predict(x_test)\n",
    "\n",
    "rfs=r2_score(y_test,pred_decision)\n",
    "print('R2 score: ',rfs*100)\n",
    "\n",
    "rfscore=cross_val_score(rf,x,y,cv=3)\n",
    "rfc=rfscore.mean()\n",
    "print(\"Cross Val Score: \",rfc*100)"
   ]
  },
  {
   "cell_type": "markdown",
   "metadata": {},
   "source": [
    "The r2 score & Cross Val Score after performing RandomForestRegressor is 75.12% & 14.62% respectively."
   ]
  },
  {
   "cell_type": "markdown",
   "metadata": {},
   "source": [
    "# Saving Model"
   ]
  },
  {
   "cell_type": "code",
   "execution_count": 72,
   "metadata": {},
   "outputs": [],
   "source": [
    "import pickle\n",
    "filename='avocado.pkl'\n",
    "pickle.dump(rf,open(filename,'wb'))"
   ]
  }
 ],
 "metadata": {
  "kernelspec": {
   "display_name": "Python 3",
   "language": "python",
   "name": "python3"
  },
  "language_info": {
   "codemirror_mode": {
    "name": "ipython",
    "version": 3
   },
   "file_extension": ".py",
   "mimetype": "text/x-python",
   "name": "python",
   "nbconvert_exporter": "python",
   "pygments_lexer": "ipython3",
   "version": "3.8.8"
  }
 },
 "nbformat": 4,
 "nbformat_minor": 2
}
